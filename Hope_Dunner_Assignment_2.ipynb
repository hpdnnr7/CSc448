{
  "nbformat": 4,
  "nbformat_minor": 5,
  "metadata": {
    "kernelspec": {
      "display_name": "Python 3 (ipykernel)",
      "language": "python",
      "name": "python3"
    },
    "language_info": {
      "codemirror_mode": {
        "name": "ipython",
        "version": 3
      },
      "file_extension": ".py",
      "mimetype": "text/x-python",
      "name": "python",
      "nbconvert_exporter": "python",
      "pygments_lexer": "ipython3",
      "version": "3.9.7"
    },
    "colab": {
      "name": "Hope Dunner Assignment 2.ipynb",
      "provenance": [],
      "include_colab_link": true
    }
  },
  "cells": [
    {
      "cell_type": "markdown",
      "metadata": {
        "id": "view-in-github",
        "colab_type": "text"
      },
      "source": [
        "<a href=\"https://colab.research.google.com/github/hpdnnr7/CSc448/blob/main/Hope_Dunner_Assignment_2.ipynb\" target=\"_parent\"><img src=\"https://colab.research.google.com/assets/colab-badge.svg\" alt=\"Open In Colab\"/></a>"
      ]
    },
    {
      "cell_type": "markdown",
      "metadata": {
        "id": "ec8f0cf7"
      },
      "source": [
        "# Abstract\n",
        "In this notebook we are going to explore the data set of the Top 50 Spotify Songs from 2019. Specificially the data which I will look at and analyze, will be the varibles which occor in the dataset; ie. Genre, Popularity and Danceability."
      ],
      "id": "ec8f0cf7"
    },
    {
      "cell_type": "markdown",
      "metadata": {
        "id": "9b827aa9"
      },
      "source": [
        "# Setup and Imports\n",
        "In order to run this notebook live you will need to make sure the following modules are installed on your machine:\n",
        "\n",
        "* matplotlib\n",
        "* pandas\t\n",
        "* numpy\n",
        "* seaborn\n",
        "\n",
        "You can do this by running pip install <module_name> from your terminal/command prompts."
      ],
      "id": "9b827aa9"
    },
    {
      "cell_type": "code",
      "metadata": {
        "id": "7b95f74d"
      },
      "source": [
        "import pandas as pd \n",
        "import numpy as np\n",
        "import seaborn as sns\n",
        "import matplotlib.pyplot as plt\n",
        "import matplotlib.mlab as mlab"
      ],
      "id": "7b95f74d",
      "execution_count": null,
      "outputs": []
    },
    {
      "cell_type": "markdown",
      "metadata": {
        "id": "8b29e365"
      },
      "source": [
        "# Analysis"
      ],
      "id": "8b29e365"
    },
    {
      "cell_type": "markdown",
      "metadata": {
        "id": "34fe4534"
      },
      "source": [
        "In addition to importing these modules you will also need to download the data file. top50.csv.\n",
        "\n",
        "Below I have previewed the top 10 songs in the dataset."
      ],
      "id": "34fe4534"
    },
    {
      "cell_type": "code",
      "metadata": {
        "scrolled": false,
        "id": "7c591158",
        "outputId": "eb012d76-76f8-4ce7-8208-5b989df08dc5"
      },
      "source": [
        "#raw data\n",
        "songs = pd.read_csv('top50.csv', encoding='latin-1')\n",
        "songs.head(10)"
      ],
      "id": "7c591158",
      "execution_count": null,
      "outputs": [
        {
          "data": {
            "text/html": [
              "<div>\n",
              "<style scoped>\n",
              "    .dataframe tbody tr th:only-of-type {\n",
              "        vertical-align: middle;\n",
              "    }\n",
              "\n",
              "    .dataframe tbody tr th {\n",
              "        vertical-align: top;\n",
              "    }\n",
              "\n",
              "    .dataframe thead th {\n",
              "        text-align: right;\n",
              "    }\n",
              "</style>\n",
              "<table border=\"1\" class=\"dataframe\">\n",
              "  <thead>\n",
              "    <tr style=\"text-align: right;\">\n",
              "      <th></th>\n",
              "      <th>Unnamed: 0</th>\n",
              "      <th>Track.Name</th>\n",
              "      <th>Artist.Name</th>\n",
              "      <th>Genre</th>\n",
              "      <th>Beats.Per.Minute</th>\n",
              "      <th>Energy</th>\n",
              "      <th>Danceability</th>\n",
              "      <th>Loudness..dB..</th>\n",
              "      <th>Liveness</th>\n",
              "      <th>Valence.</th>\n",
              "      <th>Length.</th>\n",
              "      <th>Acousticness..</th>\n",
              "      <th>Speechiness.</th>\n",
              "      <th>Popularity</th>\n",
              "    </tr>\n",
              "  </thead>\n",
              "  <tbody>\n",
              "    <tr>\n",
              "      <th>0</th>\n",
              "      <td>1</td>\n",
              "      <td>Señorita</td>\n",
              "      <td>Shawn Mendes</td>\n",
              "      <td>canadian pop</td>\n",
              "      <td>117</td>\n",
              "      <td>55</td>\n",
              "      <td>76</td>\n",
              "      <td>-6</td>\n",
              "      <td>8</td>\n",
              "      <td>75</td>\n",
              "      <td>191</td>\n",
              "      <td>4</td>\n",
              "      <td>3</td>\n",
              "      <td>79</td>\n",
              "    </tr>\n",
              "    <tr>\n",
              "      <th>1</th>\n",
              "      <td>2</td>\n",
              "      <td>China</td>\n",
              "      <td>Anuel AA</td>\n",
              "      <td>reggaeton flow</td>\n",
              "      <td>105</td>\n",
              "      <td>81</td>\n",
              "      <td>79</td>\n",
              "      <td>-4</td>\n",
              "      <td>8</td>\n",
              "      <td>61</td>\n",
              "      <td>302</td>\n",
              "      <td>8</td>\n",
              "      <td>9</td>\n",
              "      <td>92</td>\n",
              "    </tr>\n",
              "    <tr>\n",
              "      <th>2</th>\n",
              "      <td>3</td>\n",
              "      <td>boyfriend (with Social House)</td>\n",
              "      <td>Ariana Grande</td>\n",
              "      <td>dance pop</td>\n",
              "      <td>190</td>\n",
              "      <td>80</td>\n",
              "      <td>40</td>\n",
              "      <td>-4</td>\n",
              "      <td>16</td>\n",
              "      <td>70</td>\n",
              "      <td>186</td>\n",
              "      <td>12</td>\n",
              "      <td>46</td>\n",
              "      <td>85</td>\n",
              "    </tr>\n",
              "    <tr>\n",
              "      <th>3</th>\n",
              "      <td>4</td>\n",
              "      <td>Beautiful People (feat. Khalid)</td>\n",
              "      <td>Ed Sheeran</td>\n",
              "      <td>pop</td>\n",
              "      <td>93</td>\n",
              "      <td>65</td>\n",
              "      <td>64</td>\n",
              "      <td>-8</td>\n",
              "      <td>8</td>\n",
              "      <td>55</td>\n",
              "      <td>198</td>\n",
              "      <td>12</td>\n",
              "      <td>19</td>\n",
              "      <td>86</td>\n",
              "    </tr>\n",
              "    <tr>\n",
              "      <th>4</th>\n",
              "      <td>5</td>\n",
              "      <td>Goodbyes (Feat. Young Thug)</td>\n",
              "      <td>Post Malone</td>\n",
              "      <td>dfw rap</td>\n",
              "      <td>150</td>\n",
              "      <td>65</td>\n",
              "      <td>58</td>\n",
              "      <td>-4</td>\n",
              "      <td>11</td>\n",
              "      <td>18</td>\n",
              "      <td>175</td>\n",
              "      <td>45</td>\n",
              "      <td>7</td>\n",
              "      <td>94</td>\n",
              "    </tr>\n",
              "    <tr>\n",
              "      <th>5</th>\n",
              "      <td>6</td>\n",
              "      <td>I Don't Care (with Justin Bieber)</td>\n",
              "      <td>Ed Sheeran</td>\n",
              "      <td>pop</td>\n",
              "      <td>102</td>\n",
              "      <td>68</td>\n",
              "      <td>80</td>\n",
              "      <td>-5</td>\n",
              "      <td>9</td>\n",
              "      <td>84</td>\n",
              "      <td>220</td>\n",
              "      <td>9</td>\n",
              "      <td>4</td>\n",
              "      <td>84</td>\n",
              "    </tr>\n",
              "    <tr>\n",
              "      <th>6</th>\n",
              "      <td>7</td>\n",
              "      <td>Ransom</td>\n",
              "      <td>Lil Tecca</td>\n",
              "      <td>trap music</td>\n",
              "      <td>180</td>\n",
              "      <td>64</td>\n",
              "      <td>75</td>\n",
              "      <td>-6</td>\n",
              "      <td>7</td>\n",
              "      <td>23</td>\n",
              "      <td>131</td>\n",
              "      <td>2</td>\n",
              "      <td>29</td>\n",
              "      <td>92</td>\n",
              "    </tr>\n",
              "    <tr>\n",
              "      <th>7</th>\n",
              "      <td>8</td>\n",
              "      <td>How Do You Sleep?</td>\n",
              "      <td>Sam Smith</td>\n",
              "      <td>pop</td>\n",
              "      <td>111</td>\n",
              "      <td>68</td>\n",
              "      <td>48</td>\n",
              "      <td>-5</td>\n",
              "      <td>8</td>\n",
              "      <td>35</td>\n",
              "      <td>202</td>\n",
              "      <td>15</td>\n",
              "      <td>9</td>\n",
              "      <td>90</td>\n",
              "    </tr>\n",
              "    <tr>\n",
              "      <th>8</th>\n",
              "      <td>9</td>\n",
              "      <td>Old Town Road - Remix</td>\n",
              "      <td>Lil Nas X</td>\n",
              "      <td>country rap</td>\n",
              "      <td>136</td>\n",
              "      <td>62</td>\n",
              "      <td>88</td>\n",
              "      <td>-6</td>\n",
              "      <td>11</td>\n",
              "      <td>64</td>\n",
              "      <td>157</td>\n",
              "      <td>5</td>\n",
              "      <td>10</td>\n",
              "      <td>87</td>\n",
              "    </tr>\n",
              "    <tr>\n",
              "      <th>9</th>\n",
              "      <td>10</td>\n",
              "      <td>bad guy</td>\n",
              "      <td>Billie Eilish</td>\n",
              "      <td>electropop</td>\n",
              "      <td>135</td>\n",
              "      <td>43</td>\n",
              "      <td>70</td>\n",
              "      <td>-11</td>\n",
              "      <td>10</td>\n",
              "      <td>56</td>\n",
              "      <td>194</td>\n",
              "      <td>33</td>\n",
              "      <td>38</td>\n",
              "      <td>95</td>\n",
              "    </tr>\n",
              "  </tbody>\n",
              "</table>\n",
              "</div>"
            ],
            "text/plain": [
              "   Unnamed: 0                         Track.Name    Artist.Name  \\\n",
              "0           1                           Señorita   Shawn Mendes   \n",
              "1           2                              China       Anuel AA   \n",
              "2           3      boyfriend (with Social House)  Ariana Grande   \n",
              "3           4    Beautiful People (feat. Khalid)     Ed Sheeran   \n",
              "4           5        Goodbyes (Feat. Young Thug)    Post Malone   \n",
              "5           6  I Don't Care (with Justin Bieber)     Ed Sheeran   \n",
              "6           7                             Ransom      Lil Tecca   \n",
              "7           8                  How Do You Sleep?      Sam Smith   \n",
              "8           9              Old Town Road - Remix      Lil Nas X   \n",
              "9          10                            bad guy  Billie Eilish   \n",
              "\n",
              "            Genre  Beats.Per.Minute  Energy  Danceability  Loudness..dB..  \\\n",
              "0    canadian pop               117      55            76              -6   \n",
              "1  reggaeton flow               105      81            79              -4   \n",
              "2       dance pop               190      80            40              -4   \n",
              "3             pop                93      65            64              -8   \n",
              "4         dfw rap               150      65            58              -4   \n",
              "5             pop               102      68            80              -5   \n",
              "6      trap music               180      64            75              -6   \n",
              "7             pop               111      68            48              -5   \n",
              "8     country rap               136      62            88              -6   \n",
              "9      electropop               135      43            70             -11   \n",
              "\n",
              "   Liveness  Valence.  Length.  Acousticness..  Speechiness.  Popularity  \n",
              "0         8        75      191               4             3          79  \n",
              "1         8        61      302               8             9          92  \n",
              "2        16        70      186              12            46          85  \n",
              "3         8        55      198              12            19          86  \n",
              "4        11        18      175              45             7          94  \n",
              "5         9        84      220               9             4          84  \n",
              "6         7        23      131               2            29          92  \n",
              "7         8        35      202              15             9          90  \n",
              "8        11        64      157               5            10          87  \n",
              "9        10        56      194              33            38          95  "
            ]
          },
          "execution_count": 86,
          "metadata": {},
          "output_type": "execute_result"
        }
      ]
    },
    {
      "cell_type": "markdown",
      "metadata": {
        "id": "e4ebefb1"
      },
      "source": [
        "Creating a bar plot to count frequency of 'Genre'"
      ],
      "id": "e4ebefb1"
    },
    {
      "cell_type": "code",
      "metadata": {
        "id": "0e9aaaed",
        "outputId": "69232151-183d-43af-8124-b3bef6c80bb7"
      },
      "source": [
        "sns.catplot(y = \"Genre\", kind = \"count\", data = songs)\n",
        "plt.show()"
      ],
      "id": "0e9aaaed",
      "execution_count": null,
      "outputs": [
        {
          "data": {
            "image/png": "[encoded data removed]",
            "text/plain": [
              "<Figure size 360x360 with 1 Axes>"
            ]
          },
          "metadata": {
            "needs_background": "light"
          },
          "output_type": "display_data"
        }
      ]
    },
    {
      "cell_type": "markdown",
      "metadata": {
        "id": "7175bbcf"
      },
      "source": [
        "Dance pop had the highest recurrence within the data set, which was seen 8 times. I want to look at what were the 8 songs from the dataset."
      ],
      "id": "7175bbcf"
    },
    {
      "cell_type": "code",
      "metadata": {
        "id": "f1958d32",
        "outputId": "4514b3fb-f9f5-4311-9740-7125186e5253"
      },
      "source": [
        "filtered_data = songs[songs[\"Genre\"]=='dance pop']\n",
        "dance_pop = filtered_data[['Genre','Track.Name','Artist.Name','Danceability','Popularity', 'Beats.Per.Minute']] #create a new dataframe 'dance_pop' which only focus on five parameters\n",
        "dance_pop.head(8)"
      ],
      "id": "f1958d32",
      "execution_count": null,
      "outputs": [
        {
          "data": {
            "text/html": [
              "<div>\n",
              "<style scoped>\n",
              "    .dataframe tbody tr th:only-of-type {\n",
              "        vertical-align: middle;\n",
              "    }\n",
              "\n",
              "    .dataframe tbody tr th {\n",
              "        vertical-align: top;\n",
              "    }\n",
              "\n",
              "    .dataframe thead th {\n",
              "        text-align: right;\n",
              "    }\n",
              "</style>\n",
              "<table border=\"1\" class=\"dataframe\">\n",
              "  <thead>\n",
              "    <tr style=\"text-align: right;\">\n",
              "      <th></th>\n",
              "      <th>Genre</th>\n",
              "      <th>Track.Name</th>\n",
              "      <th>Artist.Name</th>\n",
              "      <th>Danceability</th>\n",
              "      <th>Popularity</th>\n",
              "      <th>Beats.Per.Minute</th>\n",
              "    </tr>\n",
              "  </thead>\n",
              "  <tbody>\n",
              "    <tr>\n",
              "      <th>2</th>\n",
              "      <td>dance pop</td>\n",
              "      <td>boyfriend (with Social House)</td>\n",
              "      <td>Ariana Grande</td>\n",
              "      <td>40</td>\n",
              "      <td>85</td>\n",
              "      <td>190</td>\n",
              "    </tr>\n",
              "    <tr>\n",
              "      <th>11</th>\n",
              "      <td>dance pop</td>\n",
              "      <td>Loco Contigo (feat. J. Balvin &amp; Tyga)</td>\n",
              "      <td>DJ Snake</td>\n",
              "      <td>82</td>\n",
              "      <td>86</td>\n",
              "      <td>96</td>\n",
              "    </tr>\n",
              "    <tr>\n",
              "      <th>15</th>\n",
              "      <td>dance pop</td>\n",
              "      <td>No Guidance (feat. Drake)</td>\n",
              "      <td>Chris Brown</td>\n",
              "      <td>70</td>\n",
              "      <td>82</td>\n",
              "      <td>93</td>\n",
              "    </tr>\n",
              "    <tr>\n",
              "      <th>31</th>\n",
              "      <td>dance pop</td>\n",
              "      <td>7 rings</td>\n",
              "      <td>Ariana Grande</td>\n",
              "      <td>78</td>\n",
              "      <td>89</td>\n",
              "      <td>140</td>\n",
              "    </tr>\n",
              "    <tr>\n",
              "      <th>34</th>\n",
              "      <td>dance pop</td>\n",
              "      <td>Never Really Over</td>\n",
              "      <td>Katy Perry</td>\n",
              "      <td>77</td>\n",
              "      <td>89</td>\n",
              "      <td>100</td>\n",
              "    </tr>\n",
              "    <tr>\n",
              "      <th>39</th>\n",
              "      <td>dance pop</td>\n",
              "      <td>fuck, i'm lonely (with Anne-Marie) - from 13 ...</td>\n",
              "      <td>Lauv</td>\n",
              "      <td>81</td>\n",
              "      <td>78</td>\n",
              "      <td>95</td>\n",
              "    </tr>\n",
              "    <tr>\n",
              "      <th>41</th>\n",
              "      <td>dance pop</td>\n",
              "      <td>You Need To Calm Down</td>\n",
              "      <td>Taylor Swift</td>\n",
              "      <td>77</td>\n",
              "      <td>90</td>\n",
              "      <td>85</td>\n",
              "    </tr>\n",
              "    <tr>\n",
              "      <th>42</th>\n",
              "      <td>dance pop</td>\n",
              "      <td>Shallow</td>\n",
              "      <td>Lady Gaga</td>\n",
              "      <td>57</td>\n",
              "      <td>87</td>\n",
              "      <td>96</td>\n",
              "    </tr>\n",
              "  </tbody>\n",
              "</table>\n",
              "</div>"
            ],
            "text/plain": [
              "        Genre                                         Track.Name  \\\n",
              "2   dance pop                      boyfriend (with Social House)   \n",
              "11  dance pop              Loco Contigo (feat. J. Balvin & Tyga)   \n",
              "15  dance pop                          No Guidance (feat. Drake)   \n",
              "31  dance pop                                            7 rings   \n",
              "34  dance pop                                  Never Really Over   \n",
              "39  dance pop  fuck, i'm lonely (with Anne-Marie) - from 13 ...   \n",
              "41  dance pop                              You Need To Calm Down   \n",
              "42  dance pop                                            Shallow   \n",
              "\n",
              "      Artist.Name  Danceability  Popularity  Beats.Per.Minute  \n",
              "2   Ariana Grande            40          85               190  \n",
              "11       DJ Snake            82          86                96  \n",
              "15    Chris Brown            70          82                93  \n",
              "31  Ariana Grande            78          89               140  \n",
              "34     Katy Perry            77          89               100  \n",
              "39           Lauv            81          78                95  \n",
              "41   Taylor Swift            77          90                85  \n",
              "42      Lady Gaga            57          87                96  "
            ]
          },
          "execution_count": 88,
          "metadata": {},
          "output_type": "execute_result"
        }
      ]
    },
    {
      "cell_type": "markdown",
      "metadata": {
        "id": "80c3a74f"
      },
      "source": [
        "Between these 8 songs, I want to see if there is any correlation between the Beats per Minute,  Dancability, and Popularity. I will make scatterplot to look if there is any correlation between these three categories."
      ],
      "id": "80c3a74f"
    },
    {
      "cell_type": "code",
      "metadata": {
        "id": "882b8c45",
        "outputId": "b79943a7-6a21-4e5c-b31b-1c33c9898a27"
      },
      "source": [
        "dance_pop.plot.scatter(x='Danceability', y='Popularity')"
      ],
      "id": "882b8c45",
      "execution_count": null,
      "outputs": [
        {
          "data": {
            "text/plain": [
              "<AxesSubplot:xlabel='Danceability', ylabel='Popularity'>"
            ]
          },
          "execution_count": 89,
          "metadata": {},
          "output_type": "execute_result"
        },
        {
          "data": {
            "image/png": "[encoded data removed]",
            "text/plain": [
              "<Figure size 432x288 with 1 Axes>"
            ]
          },
          "metadata": {
            "needs_background": "light"
          },
          "output_type": "display_data"
        }
      ]
    },
    {
      "cell_type": "code",
      "metadata": {
        "id": "9e037367",
        "outputId": "288c5133-e22d-4d96-a412-4a09365a58b5"
      },
      "source": [
        "dance_pop.plot.scatter(y='Danceability', x='Beats.Per.Minute')"
      ],
      "id": "9e037367",
      "execution_count": null,
      "outputs": [
        {
          "data": {
            "text/plain": [
              "<AxesSubplot:xlabel='Beats.Per.Minute', ylabel='Danceability'>"
            ]
          },
          "execution_count": 90,
          "metadata": {},
          "output_type": "execute_result"
        },
        {
          "data": {
            "image/png": "[encoded data removed]",
            "text/plain": [
              "<Figure size 432x288 with 1 Axes>"
            ]
          },
          "metadata": {
            "needs_background": "light"
          },
          "output_type": "display_data"
        }
      ]
    },
    {
      "cell_type": "code",
      "metadata": {
        "id": "e0e67986",
        "outputId": "ff79513e-6cca-4b04-c917-9b23a3cfe521"
      },
      "source": [
        "dance_pop.plot.scatter(y='Popularity', x='Beats.Per.Minute')"
      ],
      "id": "e0e67986",
      "execution_count": null,
      "outputs": [
        {
          "data": {
            "text/plain": [
              "<AxesSubplot:xlabel='Beats.Per.Minute', ylabel='Popularity'>"
            ]
          },
          "execution_count": 91,
          "metadata": {},
          "output_type": "execute_result"
        },
        {
          "data": {
            "image/png": "[encoded data removed]",
            "text/plain": [
              "<Figure size 432x288 with 1 Axes>"
            ]
          },
          "metadata": {
            "needs_background": "light"
          },
          "output_type": "display_data"
        }
      ]
    },
    {
      "cell_type": "markdown",
      "metadata": {
        "id": "4e75d9e2"
      },
      "source": [
        "I will try to locate which songs have all of these categories to locate the \"Perfect Song\""
      ],
      "id": "4e75d9e2"
    },
    {
      "cell_type": "code",
      "metadata": {
        "id": "680cf2fe",
        "outputId": "177c50c4-9e76-45a2-c222-78b2c399794f"
      },
      "source": [
        "perfect_song = dance_pop[dance_pop[\"Popularity\"]>=80]\n",
        "perfect_song.head(10)"
      ],
      "id": "680cf2fe",
      "execution_count": null,
      "outputs": [
        {
          "data": {
            "text/html": [
              "<div>\n",
              "<style scoped>\n",
              "    .dataframe tbody tr th:only-of-type {\n",
              "        vertical-align: middle;\n",
              "    }\n",
              "\n",
              "    .dataframe tbody tr th {\n",
              "        vertical-align: top;\n",
              "    }\n",
              "\n",
              "    .dataframe thead th {\n",
              "        text-align: right;\n",
              "    }\n",
              "</style>\n",
              "<table border=\"1\" class=\"dataframe\">\n",
              "  <thead>\n",
              "    <tr style=\"text-align: right;\">\n",
              "      <th></th>\n",
              "      <th>Genre</th>\n",
              "      <th>Track.Name</th>\n",
              "      <th>Artist.Name</th>\n",
              "      <th>Danceability</th>\n",
              "      <th>Popularity</th>\n",
              "      <th>Beats.Per.Minute</th>\n",
              "    </tr>\n",
              "  </thead>\n",
              "  <tbody>\n",
              "    <tr>\n",
              "      <th>2</th>\n",
              "      <td>dance pop</td>\n",
              "      <td>boyfriend (with Social House)</td>\n",
              "      <td>Ariana Grande</td>\n",
              "      <td>40</td>\n",
              "      <td>85</td>\n",
              "      <td>190</td>\n",
              "    </tr>\n",
              "    <tr>\n",
              "      <th>11</th>\n",
              "      <td>dance pop</td>\n",
              "      <td>Loco Contigo (feat. J. Balvin &amp; Tyga)</td>\n",
              "      <td>DJ Snake</td>\n",
              "      <td>82</td>\n",
              "      <td>86</td>\n",
              "      <td>96</td>\n",
              "    </tr>\n",
              "    <tr>\n",
              "      <th>15</th>\n",
              "      <td>dance pop</td>\n",
              "      <td>No Guidance (feat. Drake)</td>\n",
              "      <td>Chris Brown</td>\n",
              "      <td>70</td>\n",
              "      <td>82</td>\n",
              "      <td>93</td>\n",
              "    </tr>\n",
              "    <tr>\n",
              "      <th>31</th>\n",
              "      <td>dance pop</td>\n",
              "      <td>7 rings</td>\n",
              "      <td>Ariana Grande</td>\n",
              "      <td>78</td>\n",
              "      <td>89</td>\n",
              "      <td>140</td>\n",
              "    </tr>\n",
              "    <tr>\n",
              "      <th>34</th>\n",
              "      <td>dance pop</td>\n",
              "      <td>Never Really Over</td>\n",
              "      <td>Katy Perry</td>\n",
              "      <td>77</td>\n",
              "      <td>89</td>\n",
              "      <td>100</td>\n",
              "    </tr>\n",
              "    <tr>\n",
              "      <th>41</th>\n",
              "      <td>dance pop</td>\n",
              "      <td>You Need To Calm Down</td>\n",
              "      <td>Taylor Swift</td>\n",
              "      <td>77</td>\n",
              "      <td>90</td>\n",
              "      <td>85</td>\n",
              "    </tr>\n",
              "    <tr>\n",
              "      <th>42</th>\n",
              "      <td>dance pop</td>\n",
              "      <td>Shallow</td>\n",
              "      <td>Lady Gaga</td>\n",
              "      <td>57</td>\n",
              "      <td>87</td>\n",
              "      <td>96</td>\n",
              "    </tr>\n",
              "  </tbody>\n",
              "</table>\n",
              "</div>"
            ],
            "text/plain": [
              "        Genre                             Track.Name    Artist.Name  \\\n",
              "2   dance pop          boyfriend (with Social House)  Ariana Grande   \n",
              "11  dance pop  Loco Contigo (feat. J. Balvin & Tyga)       DJ Snake   \n",
              "15  dance pop              No Guidance (feat. Drake)    Chris Brown   \n",
              "31  dance pop                                7 rings  Ariana Grande   \n",
              "34  dance pop                      Never Really Over     Katy Perry   \n",
              "41  dance pop                  You Need To Calm Down   Taylor Swift   \n",
              "42  dance pop                                Shallow      Lady Gaga   \n",
              "\n",
              "    Danceability  Popularity  Beats.Per.Minute  \n",
              "2             40          85               190  \n",
              "11            82          86                96  \n",
              "15            70          82                93  \n",
              "31            78          89               140  \n",
              "34            77          89               100  \n",
              "41            77          90                85  \n",
              "42            57          87                96  "
            ]
          },
          "execution_count": 92,
          "metadata": {},
          "output_type": "execute_result"
        }
      ]
    },
    {
      "cell_type": "code",
      "metadata": {
        "id": "ad61b411",
        "outputId": "14ead16b-14e1-45e1-bc49-f194b2be9b12"
      },
      "source": [
        "perfect_song = perfect_song[perfect_song[\"Danceability\"]>=70]\n",
        "perfect_song.head(10)"
      ],
      "id": "ad61b411",
      "execution_count": null,
      "outputs": [
        {
          "data": {
            "text/html": [
              "<div>\n",
              "<style scoped>\n",
              "    .dataframe tbody tr th:only-of-type {\n",
              "        vertical-align: middle;\n",
              "    }\n",
              "\n",
              "    .dataframe tbody tr th {\n",
              "        vertical-align: top;\n",
              "    }\n",
              "\n",
              "    .dataframe thead th {\n",
              "        text-align: right;\n",
              "    }\n",
              "</style>\n",
              "<table border=\"1\" class=\"dataframe\">\n",
              "  <thead>\n",
              "    <tr style=\"text-align: right;\">\n",
              "      <th></th>\n",
              "      <th>Genre</th>\n",
              "      <th>Track.Name</th>\n",
              "      <th>Artist.Name</th>\n",
              "      <th>Danceability</th>\n",
              "      <th>Popularity</th>\n",
              "      <th>Beats.Per.Minute</th>\n",
              "    </tr>\n",
              "  </thead>\n",
              "  <tbody>\n",
              "    <tr>\n",
              "      <th>11</th>\n",
              "      <td>dance pop</td>\n",
              "      <td>Loco Contigo (feat. J. Balvin &amp; Tyga)</td>\n",
              "      <td>DJ Snake</td>\n",
              "      <td>82</td>\n",
              "      <td>86</td>\n",
              "      <td>96</td>\n",
              "    </tr>\n",
              "    <tr>\n",
              "      <th>15</th>\n",
              "      <td>dance pop</td>\n",
              "      <td>No Guidance (feat. Drake)</td>\n",
              "      <td>Chris Brown</td>\n",
              "      <td>70</td>\n",
              "      <td>82</td>\n",
              "      <td>93</td>\n",
              "    </tr>\n",
              "    <tr>\n",
              "      <th>31</th>\n",
              "      <td>dance pop</td>\n",
              "      <td>7 rings</td>\n",
              "      <td>Ariana Grande</td>\n",
              "      <td>78</td>\n",
              "      <td>89</td>\n",
              "      <td>140</td>\n",
              "    </tr>\n",
              "    <tr>\n",
              "      <th>34</th>\n",
              "      <td>dance pop</td>\n",
              "      <td>Never Really Over</td>\n",
              "      <td>Katy Perry</td>\n",
              "      <td>77</td>\n",
              "      <td>89</td>\n",
              "      <td>100</td>\n",
              "    </tr>\n",
              "    <tr>\n",
              "      <th>41</th>\n",
              "      <td>dance pop</td>\n",
              "      <td>You Need To Calm Down</td>\n",
              "      <td>Taylor Swift</td>\n",
              "      <td>77</td>\n",
              "      <td>90</td>\n",
              "      <td>85</td>\n",
              "    </tr>\n",
              "  </tbody>\n",
              "</table>\n",
              "</div>"
            ],
            "text/plain": [
              "        Genre                             Track.Name    Artist.Name  \\\n",
              "11  dance pop  Loco Contigo (feat. J. Balvin & Tyga)       DJ Snake   \n",
              "15  dance pop              No Guidance (feat. Drake)    Chris Brown   \n",
              "31  dance pop                                7 rings  Ariana Grande   \n",
              "34  dance pop                      Never Really Over     Katy Perry   \n",
              "41  dance pop                  You Need To Calm Down   Taylor Swift   \n",
              "\n",
              "    Danceability  Popularity  Beats.Per.Minute  \n",
              "11            82          86                96  \n",
              "15            70          82                93  \n",
              "31            78          89               140  \n",
              "34            77          89               100  \n",
              "41            77          90                85  "
            ]
          },
          "execution_count": 93,
          "metadata": {},
          "output_type": "execute_result"
        }
      ]
    },
    {
      "cell_type": "code",
      "metadata": {
        "id": "8bc9bd62",
        "outputId": "fe5027d3-6858-4d87-cddb-e707c0af5109"
      },
      "source": [
        "perfect_song = perfect_song[perfect_song[\"Beats.Per.Minute\"]>=90]\n",
        "perfect_song.head(10)"
      ],
      "id": "8bc9bd62",
      "execution_count": null,
      "outputs": [
        {
          "data": {
            "text/html": [
              "<div>\n",
              "<style scoped>\n",
              "    .dataframe tbody tr th:only-of-type {\n",
              "        vertical-align: middle;\n",
              "    }\n",
              "\n",
              "    .dataframe tbody tr th {\n",
              "        vertical-align: top;\n",
              "    }\n",
              "\n",
              "    .dataframe thead th {\n",
              "        text-align: right;\n",
              "    }\n",
              "</style>\n",
              "<table border=\"1\" class=\"dataframe\">\n",
              "  <thead>\n",
              "    <tr style=\"text-align: right;\">\n",
              "      <th></th>\n",
              "      <th>Genre</th>\n",
              "      <th>Track.Name</th>\n",
              "      <th>Artist.Name</th>\n",
              "      <th>Danceability</th>\n",
              "      <th>Popularity</th>\n",
              "      <th>Beats.Per.Minute</th>\n",
              "    </tr>\n",
              "  </thead>\n",
              "  <tbody>\n",
              "    <tr>\n",
              "      <th>11</th>\n",
              "      <td>dance pop</td>\n",
              "      <td>Loco Contigo (feat. J. Balvin &amp; Tyga)</td>\n",
              "      <td>DJ Snake</td>\n",
              "      <td>82</td>\n",
              "      <td>86</td>\n",
              "      <td>96</td>\n",
              "    </tr>\n",
              "    <tr>\n",
              "      <th>15</th>\n",
              "      <td>dance pop</td>\n",
              "      <td>No Guidance (feat. Drake)</td>\n",
              "      <td>Chris Brown</td>\n",
              "      <td>70</td>\n",
              "      <td>82</td>\n",
              "      <td>93</td>\n",
              "    </tr>\n",
              "    <tr>\n",
              "      <th>31</th>\n",
              "      <td>dance pop</td>\n",
              "      <td>7 rings</td>\n",
              "      <td>Ariana Grande</td>\n",
              "      <td>78</td>\n",
              "      <td>89</td>\n",
              "      <td>140</td>\n",
              "    </tr>\n",
              "    <tr>\n",
              "      <th>34</th>\n",
              "      <td>dance pop</td>\n",
              "      <td>Never Really Over</td>\n",
              "      <td>Katy Perry</td>\n",
              "      <td>77</td>\n",
              "      <td>89</td>\n",
              "      <td>100</td>\n",
              "    </tr>\n",
              "  </tbody>\n",
              "</table>\n",
              "</div>"
            ],
            "text/plain": [
              "        Genre                             Track.Name    Artist.Name  \\\n",
              "11  dance pop  Loco Contigo (feat. J. Balvin & Tyga)       DJ Snake   \n",
              "15  dance pop              No Guidance (feat. Drake)    Chris Brown   \n",
              "31  dance pop                                7 rings  Ariana Grande   \n",
              "34  dance pop                      Never Really Over     Katy Perry   \n",
              "\n",
              "    Danceability  Popularity  Beats.Per.Minute  \n",
              "11            82          86                96  \n",
              "15            70          82                93  \n",
              "31            78          89               140  \n",
              "34            77          89               100  "
            ]
          },
          "execution_count": 94,
          "metadata": {},
          "output_type": "execute_result"
        }
      ]
    },
    {
      "cell_type": "markdown",
      "metadata": {
        "id": "d6e5d1a7"
      },
      "source": [
        "# Conclusions\n",
        "There seems to be correlations between the three categories where:\n",
        "\n",
        "* The more popular a song will have a high dancability factor\n",
        "* A song with a BPM between 80 and 100 has an increased dancability factor\n",
        "* A songs with a BPM between 80 and 100 have an increased popularity factor\n"
      ],
      "id": "d6e5d1a7"
    },
    {
      "cell_type": "markdown",
      "metadata": {
        "id": "7c4e261a"
      },
      "source": [
        "The songs which fits all of these categories in the dance pop category are:\n",
        "\n",
        "Loco Contigo by DJ Snake, No Guidance by Chris Brown, 7 Rings by Ariana Grande and Never Really Over by Katy Perry\t"
      ],
      "id": "7c4e261a"
    },
    {
      "cell_type": "markdown",
      "metadata": {
        "id": "87c79e84"
      },
      "source": [
        "### AI meme :)\n",
        "![](ai_meme.png)\n",
        "\n"
      ],
      "id": "87c79e84"
    }
  ]
}