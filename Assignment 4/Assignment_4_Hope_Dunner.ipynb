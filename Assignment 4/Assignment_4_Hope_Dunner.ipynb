{
  "nbformat": 4,
  "nbformat_minor": 0,
  "metadata": {
    "colab": {
      "name": "Assignment 4 - Hope Dunner.ipynb",
      "provenance": [],
      "collapsed_sections": [],
      "include_colab_link": true
    },
    "kernelspec": {
      "display_name": "Python 3 (ipykernel)",
      "language": "python",
      "name": "python3"
    },
    "language_info": {
      "codemirror_mode": {
        "name": "ipython",
        "version": 3
      },
      "file_extension": ".py",
      "mimetype": "text/x-python",
      "name": "python",
      "nbconvert_exporter": "python",
      "pygments_lexer": "ipython3",
      "version": "3.9.7"
    }
  },
  "cells": [
    {
      "cell_type": "markdown",
      "metadata": {
        "id": "view-in-github",
        "colab_type": "text"
      },
      "source": [
        "<a href=\"https://colab.research.google.com/github/hpdnnr7/CSc448/blob/main/Assignment_4_Hope_Dunner.ipynb\" target=\"_parent\"><img src=\"https://colab.research.google.com/assets/colab-badge.svg\" alt=\"Open In Colab\"/></a>"
      ]
    },
    {
      "cell_type": "code",
      "metadata": {
        "id": "S8PKiVJaL_AW"
      },
      "source": [
        "# Imports and pip installations (if needed)\n",
        "import pandas as pd \n",
        "import numpy as np\n",
        "from sklearn.model_selection import train_test_split\n",
        "from sklearn.linear_model import LogisticRegression\n",
        "from sklearn import datasets\n",
        "from sklearn import metrics \n",
        "from sklearn import svm\n",
        "from sklearn.neighbors import KNeighborsClassifier\n",
        "from sklearn.neural_network import MLPClassifier\n",
        "from sklearn.model_selection import cross_val_score"
      ],
      "execution_count": 1,
      "outputs": []
    },
    {
      "cell_type": "markdown",
      "metadata": {
        "id": "A05Q5B0_NUX9"
      },
      "source": [
        "# Part 1: Load the dataset"
      ]
    },
    {
      "cell_type": "code",
      "metadata": {
        "colab": {
          "base_uri": "https://localhost:8080/",
          "height": 514
        },
        "id": "YZ4MUsbXNZ0P",
        "outputId": "830226f9-1f49-4f13-937e-f6a7f27f217c"
      },
      "source": [
        "# Load the dataset (load remotely, not locally)\n",
        "dataset = pd.read_csv(\"https://gist.githubusercontent.com/curran/a08a1080b88344b0c8a7/raw/0e7a9b0a5d22642a06d3d5b9bcbad9890c8ee534/iris.csv\")\n",
        "# Output the first 15 rows of the data\n",
        "dataset.head(15)"
      ],
      "execution_count": 2,
      "outputs": [
        {
          "output_type": "execute_result",
          "data": {
            "text/html": [
              "<div>\n",
              "<style scoped>\n",
              "    .dataframe tbody tr th:only-of-type {\n",
              "        vertical-align: middle;\n",
              "    }\n",
              "\n",
              "    .dataframe tbody tr th {\n",
              "        vertical-align: top;\n",
              "    }\n",
              "\n",
              "    .dataframe thead th {\n",
              "        text-align: right;\n",
              "    }\n",
              "</style>\n",
              "<table border=\"1\" class=\"dataframe\">\n",
              "  <thead>\n",
              "    <tr style=\"text-align: right;\">\n",
              "      <th></th>\n",
              "      <th>sepal_length</th>\n",
              "      <th>sepal_width</th>\n",
              "      <th>petal_length</th>\n",
              "      <th>petal_width</th>\n",
              "      <th>species</th>\n",
              "    </tr>\n",
              "  </thead>\n",
              "  <tbody>\n",
              "    <tr>\n",
              "      <th>0</th>\n",
              "      <td>5.1</td>\n",
              "      <td>3.5</td>\n",
              "      <td>1.4</td>\n",
              "      <td>0.2</td>\n",
              "      <td>setosa</td>\n",
              "    </tr>\n",
              "    <tr>\n",
              "      <th>1</th>\n",
              "      <td>4.9</td>\n",
              "      <td>3.0</td>\n",
              "      <td>1.4</td>\n",
              "      <td>0.2</td>\n",
              "      <td>setosa</td>\n",
              "    </tr>\n",
              "    <tr>\n",
              "      <th>2</th>\n",
              "      <td>4.7</td>\n",
              "      <td>3.2</td>\n",
              "      <td>1.3</td>\n",
              "      <td>0.2</td>\n",
              "      <td>setosa</td>\n",
              "    </tr>\n",
              "    <tr>\n",
              "      <th>3</th>\n",
              "      <td>4.6</td>\n",
              "      <td>3.1</td>\n",
              "      <td>1.5</td>\n",
              "      <td>0.2</td>\n",
              "      <td>setosa</td>\n",
              "    </tr>\n",
              "    <tr>\n",
              "      <th>4</th>\n",
              "      <td>5.0</td>\n",
              "      <td>3.6</td>\n",
              "      <td>1.4</td>\n",
              "      <td>0.2</td>\n",
              "      <td>setosa</td>\n",
              "    </tr>\n",
              "    <tr>\n",
              "      <th>5</th>\n",
              "      <td>5.4</td>\n",
              "      <td>3.9</td>\n",
              "      <td>1.7</td>\n",
              "      <td>0.4</td>\n",
              "      <td>setosa</td>\n",
              "    </tr>\n",
              "    <tr>\n",
              "      <th>6</th>\n",
              "      <td>4.6</td>\n",
              "      <td>3.4</td>\n",
              "      <td>1.4</td>\n",
              "      <td>0.3</td>\n",
              "      <td>setosa</td>\n",
              "    </tr>\n",
              "    <tr>\n",
              "      <th>7</th>\n",
              "      <td>5.0</td>\n",
              "      <td>3.4</td>\n",
              "      <td>1.5</td>\n",
              "      <td>0.2</td>\n",
              "      <td>setosa</td>\n",
              "    </tr>\n",
              "    <tr>\n",
              "      <th>8</th>\n",
              "      <td>4.4</td>\n",
              "      <td>2.9</td>\n",
              "      <td>1.4</td>\n",
              "      <td>0.2</td>\n",
              "      <td>setosa</td>\n",
              "    </tr>\n",
              "    <tr>\n",
              "      <th>9</th>\n",
              "      <td>4.9</td>\n",
              "      <td>3.1</td>\n",
              "      <td>1.5</td>\n",
              "      <td>0.1</td>\n",
              "      <td>setosa</td>\n",
              "    </tr>\n",
              "    <tr>\n",
              "      <th>10</th>\n",
              "      <td>5.4</td>\n",
              "      <td>3.7</td>\n",
              "      <td>1.5</td>\n",
              "      <td>0.2</td>\n",
              "      <td>setosa</td>\n",
              "    </tr>\n",
              "    <tr>\n",
              "      <th>11</th>\n",
              "      <td>4.8</td>\n",
              "      <td>3.4</td>\n",
              "      <td>1.6</td>\n",
              "      <td>0.2</td>\n",
              "      <td>setosa</td>\n",
              "    </tr>\n",
              "    <tr>\n",
              "      <th>12</th>\n",
              "      <td>4.8</td>\n",
              "      <td>3.0</td>\n",
              "      <td>1.4</td>\n",
              "      <td>0.1</td>\n",
              "      <td>setosa</td>\n",
              "    </tr>\n",
              "    <tr>\n",
              "      <th>13</th>\n",
              "      <td>4.3</td>\n",
              "      <td>3.0</td>\n",
              "      <td>1.1</td>\n",
              "      <td>0.1</td>\n",
              "      <td>setosa</td>\n",
              "    </tr>\n",
              "    <tr>\n",
              "      <th>14</th>\n",
              "      <td>5.8</td>\n",
              "      <td>4.0</td>\n",
              "      <td>1.2</td>\n",
              "      <td>0.2</td>\n",
              "      <td>setosa</td>\n",
              "    </tr>\n",
              "  </tbody>\n",
              "</table>\n",
              "</div>"
            ],
            "text/plain": [
              "    sepal_length  sepal_width  petal_length  petal_width species\n",
              "0            5.1          3.5           1.4          0.2  setosa\n",
              "1            4.9          3.0           1.4          0.2  setosa\n",
              "2            4.7          3.2           1.3          0.2  setosa\n",
              "3            4.6          3.1           1.5          0.2  setosa\n",
              "4            5.0          3.6           1.4          0.2  setosa\n",
              "5            5.4          3.9           1.7          0.4  setosa\n",
              "6            4.6          3.4           1.4          0.3  setosa\n",
              "7            5.0          3.4           1.5          0.2  setosa\n",
              "8            4.4          2.9           1.4          0.2  setosa\n",
              "9            4.9          3.1           1.5          0.1  setosa\n",
              "10           5.4          3.7           1.5          0.2  setosa\n",
              "11           4.8          3.4           1.6          0.2  setosa\n",
              "12           4.8          3.0           1.4          0.1  setosa\n",
              "13           4.3          3.0           1.1          0.1  setosa\n",
              "14           5.8          4.0           1.2          0.2  setosa"
            ]
          },
          "metadata": {},
          "execution_count": 2
        }
      ]
    },
    {
      "cell_type": "code",
      "metadata": {
        "id": "joaBC7B4TuWt",
        "colab": {
          "base_uri": "https://localhost:8080/",
          "height": 535
        },
        "outputId": "24841c56-7263-4ff4-a5d8-26cbdd2ea0a3"
      },
      "source": [
        "# Display a summary of the table information (number of datapoints, etc.)\n",
        "df = pd.DataFrame(dataset)\n",
        "print(\"Summary of the basic information about this DataFrame and its data:\")\n",
        "display(df.describe())\n",
        "print(df.info())"
      ],
      "execution_count": 3,
      "outputs": [
        {
          "output_type": "stream",
          "name": "stdout",
          "text": [
            "Summary of the basic information about this DataFrame and its data:\n"
          ]
        },
        {
          "output_type": "display_data",
          "data": {
            "text/html": [
              "<div>\n",
              "<style scoped>\n",
              "    .dataframe tbody tr th:only-of-type {\n",
              "        vertical-align: middle;\n",
              "    }\n",
              "\n",
              "    .dataframe tbody tr th {\n",
              "        vertical-align: top;\n",
              "    }\n",
              "\n",
              "    .dataframe thead th {\n",
              "        text-align: right;\n",
              "    }\n",
              "</style>\n",
              "<table border=\"1\" class=\"dataframe\">\n",
              "  <thead>\n",
              "    <tr style=\"text-align: right;\">\n",
              "      <th></th>\n",
              "      <th>sepal_length</th>\n",
              "      <th>sepal_width</th>\n",
              "      <th>petal_length</th>\n",
              "      <th>petal_width</th>\n",
              "    </tr>\n",
              "  </thead>\n",
              "  <tbody>\n",
              "    <tr>\n",
              "      <th>count</th>\n",
              "      <td>150.000000</td>\n",
              "      <td>150.000000</td>\n",
              "      <td>150.000000</td>\n",
              "      <td>150.000000</td>\n",
              "    </tr>\n",
              "    <tr>\n",
              "      <th>mean</th>\n",
              "      <td>5.843333</td>\n",
              "      <td>3.054000</td>\n",
              "      <td>3.758667</td>\n",
              "      <td>1.198667</td>\n",
              "    </tr>\n",
              "    <tr>\n",
              "      <th>std</th>\n",
              "      <td>0.828066</td>\n",
              "      <td>0.433594</td>\n",
              "      <td>1.764420</td>\n",
              "      <td>0.763161</td>\n",
              "    </tr>\n",
              "    <tr>\n",
              "      <th>min</th>\n",
              "      <td>4.300000</td>\n",
              "      <td>2.000000</td>\n",
              "      <td>1.000000</td>\n",
              "      <td>0.100000</td>\n",
              "    </tr>\n",
              "    <tr>\n",
              "      <th>25%</th>\n",
              "      <td>5.100000</td>\n",
              "      <td>2.800000</td>\n",
              "      <td>1.600000</td>\n",
              "      <td>0.300000</td>\n",
              "    </tr>\n",
              "    <tr>\n",
              "      <th>50%</th>\n",
              "      <td>5.800000</td>\n",
              "      <td>3.000000</td>\n",
              "      <td>4.350000</td>\n",
              "      <td>1.300000</td>\n",
              "    </tr>\n",
              "    <tr>\n",
              "      <th>75%</th>\n",
              "      <td>6.400000</td>\n",
              "      <td>3.300000</td>\n",
              "      <td>5.100000</td>\n",
              "      <td>1.800000</td>\n",
              "    </tr>\n",
              "    <tr>\n",
              "      <th>max</th>\n",
              "      <td>7.900000</td>\n",
              "      <td>4.400000</td>\n",
              "      <td>6.900000</td>\n",
              "      <td>2.500000</td>\n",
              "    </tr>\n",
              "  </tbody>\n",
              "</table>\n",
              "</div>"
            ],
            "text/plain": [
              "       sepal_length  sepal_width  petal_length  petal_width\n",
              "count    150.000000   150.000000    150.000000   150.000000\n",
              "mean       5.843333     3.054000      3.758667     1.198667\n",
              "std        0.828066     0.433594      1.764420     0.763161\n",
              "min        4.300000     2.000000      1.000000     0.100000\n",
              "25%        5.100000     2.800000      1.600000     0.300000\n",
              "50%        5.800000     3.000000      4.350000     1.300000\n",
              "75%        6.400000     3.300000      5.100000     1.800000\n",
              "max        7.900000     4.400000      6.900000     2.500000"
            ]
          },
          "metadata": {}
        },
        {
          "output_type": "stream",
          "name": "stdout",
          "text": [
            "<class 'pandas.core.frame.DataFrame'>\n",
            "RangeIndex: 150 entries, 0 to 149\n",
            "Data columns (total 5 columns):\n",
            " #   Column        Non-Null Count  Dtype  \n",
            "---  ------        --------------  -----  \n",
            " 0   sepal_length  150 non-null    float64\n",
            " 1   sepal_width   150 non-null    float64\n",
            " 2   petal_length  150 non-null    float64\n",
            " 3   petal_width   150 non-null    float64\n",
            " 4   species       150 non-null    object \n",
            "dtypes: float64(4), object(1)\n",
            "memory usage: 6.0+ KB\n",
            "None\n"
          ]
        }
      ]
    },
    {
      "cell_type": "code",
      "metadata": {
        "id": "CWDcFfFgTuWu",
        "colab": {
          "base_uri": "https://localhost:8080/"
        },
        "outputId": "f6279681-c07e-4f0b-9932-4d73bb3c66f3"
      },
      "source": [
        "print(\"List of species in the Iris dataset and their count:\")\n",
        "df['species'].value_counts()"
      ],
      "execution_count": 4,
      "outputs": [
        {
          "output_type": "stream",
          "name": "stdout",
          "text": [
            "List of species in the Iris dataset and their count:\n"
          ]
        },
        {
          "output_type": "execute_result",
          "data": {
            "text/plain": [
              "setosa        50\n",
              "versicolor    50\n",
              "virginica     50\n",
              "Name: species, dtype: int64"
            ]
          },
          "metadata": {},
          "execution_count": 4
        }
      ]
    },
    {
      "cell_type": "markdown",
      "metadata": {
        "id": "wRMtsJKBaxWu"
      },
      "source": [
        "## About the dataset\n",
        "Explain what the data is in your own words. What are your features and labels? What is the mapping of your labels to the actual classes?"
      ]
    },
    {
      "cell_type": "markdown",
      "metadata": {
        "id": "FIBCFahITuWw"
      },
      "source": [
        "The dataset is comprised of 150 different flowers of 3 species. The flowers being setosa, versicolor and virginica. The data takes in the sepal length, sepal width, petal length and petal width for each flower and classifies the data to its respective flower.\n",
        "\n",
        "My features are the length and width while my label is the species. \n",
        "\n",
        "The classes or columns 0, 1, and 2 that can be seen in my probability report, represent the species setosa, versicolor and virginica flower respectivly. "
      ]
    },
    {
      "cell_type": "markdown",
      "metadata": {
        "id": "DhKaIrZKNaHg"
      },
      "source": [
        "# Part 2: Split the dataset into train and test"
      ]
    },
    {
      "cell_type": "code",
      "metadata": {
        "id": "67bqxhRHTuWz",
        "colab": {
          "base_uri": "https://localhost:8080/"
        },
        "outputId": "5e68452c-a032-464f-830f-cd7b525648c2"
      },
      "source": [
        "train, test =train_test_split(df, test_size=.10, random_state=42)\n",
        "print(train.shape)\n",
        "print(test.shape)"
      ],
      "execution_count": 5,
      "outputs": [
        {
          "output_type": "stream",
          "name": "stdout",
          "text": [
            "(135, 5)\n",
            "(15, 5)\n"
          ]
        }
      ]
    },
    {
      "cell_type": "code",
      "metadata": {
        "id": "RsQt4NxfTuW1"
      },
      "source": [
        "# Take the dataset and split it into our features (X) and label (y)\n",
        "train_X = train[['sepal_length','sepal_width','petal_length','petal_width']] \n",
        "train_y = train.species\n",
        "\n",
        "test_X = test[['sepal_length','sepal_width','petal_length','petal_width']]\n",
        "test_y = test.species "
      ],
      "execution_count": 6,
      "outputs": []
    },
    {
      "cell_type": "code",
      "metadata": {
        "id": "8QuFt9BVTuW2",
        "colab": {
          "base_uri": "https://localhost:8080/",
          "height": 204
        },
        "outputId": "0d5a268b-00c5-4ec1-b5f2-005bef42473d"
      },
      "source": [
        "train_X.head()"
      ],
      "execution_count": 7,
      "outputs": [
        {
          "output_type": "execute_result",
          "data": {
            "text/html": [
              "<div>\n",
              "<style scoped>\n",
              "    .dataframe tbody tr th:only-of-type {\n",
              "        vertical-align: middle;\n",
              "    }\n",
              "\n",
              "    .dataframe tbody tr th {\n",
              "        vertical-align: top;\n",
              "    }\n",
              "\n",
              "    .dataframe thead th {\n",
              "        text-align: right;\n",
              "    }\n",
              "</style>\n",
              "<table border=\"1\" class=\"dataframe\">\n",
              "  <thead>\n",
              "    <tr style=\"text-align: right;\">\n",
              "      <th></th>\n",
              "      <th>sepal_length</th>\n",
              "      <th>sepal_width</th>\n",
              "      <th>petal_length</th>\n",
              "      <th>petal_width</th>\n",
              "    </tr>\n",
              "  </thead>\n",
              "  <tbody>\n",
              "    <tr>\n",
              "      <th>56</th>\n",
              "      <td>6.3</td>\n",
              "      <td>3.3</td>\n",
              "      <td>4.7</td>\n",
              "      <td>1.6</td>\n",
              "    </tr>\n",
              "    <tr>\n",
              "      <th>104</th>\n",
              "      <td>6.5</td>\n",
              "      <td>3.0</td>\n",
              "      <td>5.8</td>\n",
              "      <td>2.2</td>\n",
              "    </tr>\n",
              "    <tr>\n",
              "      <th>69</th>\n",
              "      <td>5.6</td>\n",
              "      <td>2.5</td>\n",
              "      <td>3.9</td>\n",
              "      <td>1.1</td>\n",
              "    </tr>\n",
              "    <tr>\n",
              "      <th>55</th>\n",
              "      <td>5.7</td>\n",
              "      <td>2.8</td>\n",
              "      <td>4.5</td>\n",
              "      <td>1.3</td>\n",
              "    </tr>\n",
              "    <tr>\n",
              "      <th>132</th>\n",
              "      <td>6.4</td>\n",
              "      <td>2.8</td>\n",
              "      <td>5.6</td>\n",
              "      <td>2.2</td>\n",
              "    </tr>\n",
              "  </tbody>\n",
              "</table>\n",
              "</div>"
            ],
            "text/plain": [
              "     sepal_length  sepal_width  petal_length  petal_width\n",
              "56            6.3          3.3           4.7          1.6\n",
              "104           6.5          3.0           5.8          2.2\n",
              "69            5.6          2.5           3.9          1.1\n",
              "55            5.7          2.8           4.5          1.3\n",
              "132           6.4          2.8           5.6          2.2"
            ]
          },
          "metadata": {},
          "execution_count": 7
        }
      ]
    },
    {
      "cell_type": "code",
      "metadata": {
        "id": "x7Fsit6tTuW3",
        "colab": {
          "base_uri": "https://localhost:8080/",
          "height": 204
        },
        "outputId": "9adc234f-f0ab-4de9-e27e-e430b048aa25"
      },
      "source": [
        " test_X.head()"
      ],
      "execution_count": 8,
      "outputs": [
        {
          "output_type": "execute_result",
          "data": {
            "text/html": [
              "<div>\n",
              "<style scoped>\n",
              "    .dataframe tbody tr th:only-of-type {\n",
              "        vertical-align: middle;\n",
              "    }\n",
              "\n",
              "    .dataframe tbody tr th {\n",
              "        vertical-align: top;\n",
              "    }\n",
              "\n",
              "    .dataframe thead th {\n",
              "        text-align: right;\n",
              "    }\n",
              "</style>\n",
              "<table border=\"1\" class=\"dataframe\">\n",
              "  <thead>\n",
              "    <tr style=\"text-align: right;\">\n",
              "      <th></th>\n",
              "      <th>sepal_length</th>\n",
              "      <th>sepal_width</th>\n",
              "      <th>petal_length</th>\n",
              "      <th>petal_width</th>\n",
              "    </tr>\n",
              "  </thead>\n",
              "  <tbody>\n",
              "    <tr>\n",
              "      <th>73</th>\n",
              "      <td>6.1</td>\n",
              "      <td>2.8</td>\n",
              "      <td>4.7</td>\n",
              "      <td>1.2</td>\n",
              "    </tr>\n",
              "    <tr>\n",
              "      <th>18</th>\n",
              "      <td>5.7</td>\n",
              "      <td>3.8</td>\n",
              "      <td>1.7</td>\n",
              "      <td>0.3</td>\n",
              "    </tr>\n",
              "    <tr>\n",
              "      <th>118</th>\n",
              "      <td>7.7</td>\n",
              "      <td>2.6</td>\n",
              "      <td>6.9</td>\n",
              "      <td>2.3</td>\n",
              "    </tr>\n",
              "    <tr>\n",
              "      <th>78</th>\n",
              "      <td>6.0</td>\n",
              "      <td>2.9</td>\n",
              "      <td>4.5</td>\n",
              "      <td>1.5</td>\n",
              "    </tr>\n",
              "    <tr>\n",
              "      <th>76</th>\n",
              "      <td>6.8</td>\n",
              "      <td>2.8</td>\n",
              "      <td>4.8</td>\n",
              "      <td>1.4</td>\n",
              "    </tr>\n",
              "  </tbody>\n",
              "</table>\n",
              "</div>"
            ],
            "text/plain": [
              "     sepal_length  sepal_width  petal_length  petal_width\n",
              "73            6.1          2.8           4.7          1.2\n",
              "18            5.7          3.8           1.7          0.3\n",
              "118           7.7          2.6           6.9          2.3\n",
              "78            6.0          2.9           4.5          1.5\n",
              "76            6.8          2.8           4.8          1.4"
            ]
          },
          "metadata": {},
          "execution_count": 8
        }
      ]
    },
    {
      "cell_type": "code",
      "metadata": {
        "id": "IR2mtYnqTuW4",
        "colab": {
          "base_uri": "https://localhost:8080/"
        },
        "outputId": "a58e04bb-24a4-4404-9e60-0dc89a67507a"
      },
      "source": [
        "train_y.head()"
      ],
      "execution_count": 9,
      "outputs": [
        {
          "output_type": "execute_result",
          "data": {
            "text/plain": [
              "56     versicolor\n",
              "104     virginica\n",
              "69     versicolor\n",
              "55     versicolor\n",
              "132     virginica\n",
              "Name: species, dtype: object"
            ]
          },
          "metadata": {},
          "execution_count": 9
        }
      ]
    },
    {
      "cell_type": "code",
      "metadata": {
        "id": "cfuLQL7wTuW5",
        "colab": {
          "base_uri": "https://localhost:8080/"
        },
        "outputId": "4bcf66d2-6eaa-4059-b7d3-adf549b99741"
      },
      "source": [
        "test_y.head()"
      ],
      "execution_count": 10,
      "outputs": [
        {
          "output_type": "execute_result",
          "data": {
            "text/plain": [
              "73     versicolor\n",
              "18         setosa\n",
              "118     virginica\n",
              "78     versicolor\n",
              "76     versicolor\n",
              "Name: species, dtype: object"
            ]
          },
          "metadata": {},
          "execution_count": 10
        }
      ]
    },
    {
      "cell_type": "markdown",
      "metadata": {
        "id": "hblF-ei9Ncia"
      },
      "source": [
        "# Part 3: Logistic Regression"
      ]
    },
    {
      "cell_type": "code",
      "metadata": {
        "colab": {
          "base_uri": "https://localhost:8080/"
        },
        "id": "IhFhEN03Nf7o",
        "outputId": "d5ee490c-ca33-46ff-e789-611399a9541e"
      },
      "source": [
        "# i. Use sklearn to train a LogisticRegression model on the training set\n",
        "model = LogisticRegression(solver='lbfgs', max_iter=300)\n",
        "model.fit(train_X.values, train_y.values)"
      ],
      "execution_count": 11,
      "outputs": [
        {
          "output_type": "execute_result",
          "data": {
            "text/plain": [
              "LogisticRegression(C=1.0, class_weight=None, dual=False, fit_intercept=True,\n",
              "                   intercept_scaling=1, l1_ratio=None, max_iter=300,\n",
              "                   multi_class='auto', n_jobs=None, penalty='l2',\n",
              "                   random_state=None, solver='lbfgs', tol=0.0001, verbose=0,\n",
              "                   warm_start=False)"
            ]
          },
          "metadata": {},
          "execution_count": 11
        }
      ]
    },
    {
      "cell_type": "code",
      "metadata": {
        "id": "9KpUL4rNTuW8",
        "colab": {
          "base_uri": "https://localhost:8080/"
        },
        "outputId": "d5bf8aea-9bcd-4470-91af-7ad81ba21c00"
      },
      "source": [
        "# ii. For a sample datapoint, predict the probabilities for each possible class\n",
        "model.predict(np.array([[5, 3, 1, 0]]))"
      ],
      "execution_count": 12,
      "outputs": [
        {
          "output_type": "execute_result",
          "data": {
            "text/plain": [
              "array(['setosa'], dtype=object)"
            ]
          },
          "metadata": {},
          "execution_count": 12
        }
      ]
    },
    {
      "cell_type": "code",
      "metadata": {
        "id": "Rcyk2P24TuW9",
        "colab": {
          "base_uri": "https://localhost:8080/"
        },
        "outputId": "991ce4fa-8c14-4f46-f7a2-820dee47743b"
      },
      "source": [
        "model.predict_proba(np.array([[5, 3, 1, 0]]))"
      ],
      "execution_count": 13,
      "outputs": [
        {
          "output_type": "execute_result",
          "data": {
            "text/plain": [
              "array([[9.86236612e-01, 1.37633838e-02, 4.12242158e-09]])"
            ]
          },
          "metadata": {},
          "execution_count": 13
        }
      ]
    },
    {
      "cell_type": "markdown",
      "metadata": {
        "id": "Y5h9iRvSTuW-"
      },
      "source": [
        "The model has a 98% chance of being in class 0 with my sample data points, which is a Setosa flower. My other prediction score labeled the flower as a Setosa. "
      ]
    },
    {
      "cell_type": "code",
      "metadata": {
        "id": "MhZo6H_NTuXA",
        "colab": {
          "base_uri": "https://localhost:8080/"
        },
        "outputId": "c63ec488-3db0-40b5-dfbf-4771905c99a6"
      },
      "source": [
        "# iii. Report on the score for Logistic regression model, what does the score measure?\n",
        "model.score(train_X.values, train_y.values)"
      ],
      "execution_count": 14,
      "outputs": [
        {
          "output_type": "execute_result",
          "data": {
            "text/plain": [
              "0.9777777777777777"
            ]
          },
          "metadata": {},
          "execution_count": 14
        }
      ]
    },
    {
      "cell_type": "code",
      "metadata": {
        "id": "AKM4-wnzTuXB",
        "colab": {
          "base_uri": "https://localhost:8080/"
        },
        "outputId": "7228e257-2670-450c-db9d-1d3ba68b1b8a"
      },
      "source": [
        "# iv. Extract the coefficents and intercepts for the boundary line(s)\n",
        "print('The coefficents for the Logistic Regression is: ', model.coef_)\n",
        "print('The intercepts for the Logistic Regression are: ',model.intercept_)"
      ],
      "execution_count": 15,
      "outputs": [
        {
          "output_type": "stream",
          "name": "stdout",
          "text": [
            "The coefficents for the Logistic Regression is:  [[-0.42660097  0.96616739 -2.44691285 -1.04003198]\n",
            " [ 0.51266153 -0.2191549  -0.21423866 -0.84572868]\n",
            " [-0.08606056 -0.74701249  2.66115151  1.88576066]]\n",
            "The intercepts for the Logistic Regression are:  [  9.53636573   1.89146139 -11.42782712]\n"
          ]
        }
      ]
    },
    {
      "cell_type": "markdown",
      "metadata": {
        "id": "BDUpXQN4Nilk"
      },
      "source": [
        "# Part 4: Support Vector Machine"
      ]
    },
    {
      "cell_type": "code",
      "metadata": {
        "colab": {
          "base_uri": "https://localhost:8080/"
        },
        "id": "U__zukpdNqiQ",
        "outputId": "60addd45-e52f-4be0-86a8-b19ed5ccaea9"
      },
      "source": [
        "# i. Use sklearn to train a Support Vector Classifier on the training set\n",
        "model = svm.SVC(probability=True) \n",
        "model.fit(train_X.values, train_y.values)"
      ],
      "execution_count": 16,
      "outputs": [
        {
          "output_type": "execute_result",
          "data": {
            "text/plain": [
              "SVC(C=1.0, break_ties=False, cache_size=200, class_weight=None, coef0=0.0,\n",
              "    decision_function_shape='ovr', degree=3, gamma='scale', kernel='rbf',\n",
              "    max_iter=-1, probability=True, random_state=None, shrinking=True, tol=0.001,\n",
              "    verbose=False)"
            ]
          },
          "metadata": {},
          "execution_count": 16
        }
      ]
    },
    {
      "cell_type": "code",
      "metadata": {
        "id": "IPh5eod-TuXC",
        "colab": {
          "base_uri": "https://localhost:8080/"
        },
        "outputId": "817c9e09-9239-4ec8-b82d-b0561c8c616f"
      },
      "source": [
        "# ii. For a sample datapoint, predict the probabilities for each possible class\n",
        "model.predict([[6, 3, 5, 2]])"
      ],
      "execution_count": 17,
      "outputs": [
        {
          "output_type": "execute_result",
          "data": {
            "text/plain": [
              "array(['virginica'], dtype=object)"
            ]
          },
          "metadata": {},
          "execution_count": 17
        }
      ]
    },
    {
      "cell_type": "code",
      "metadata": {
        "id": "aDfNzpZHTuXD",
        "colab": {
          "base_uri": "https://localhost:8080/"
        },
        "outputId": "2e61365c-e3ba-4e1c-b8be-6efb3f7159f1"
      },
      "source": [
        "model.predict_proba([[6, 3, 5, 2]])"
      ],
      "execution_count": 18,
      "outputs": [
        {
          "output_type": "execute_result",
          "data": {
            "text/plain": [
              "array([[0.01017561, 0.1491027 , 0.84072169]])"
            ]
          },
          "metadata": {},
          "execution_count": 18
        }
      ]
    },
    {
      "cell_type": "markdown",
      "metadata": {
        "id": "SC46mMHATuXD"
      },
      "source": [
        "The model has a 85% chance of being in class 2 with my sample data points, which is a virginica flower. My other prediction score labeled the flower as a virginica."
      ]
    },
    {
      "cell_type": "code",
      "metadata": {
        "id": "9nfiOlyuTuXD",
        "colab": {
          "base_uri": "https://localhost:8080/"
        },
        "outputId": "94af4a70-7f24-4960-b2ab-c512ed92a494"
      },
      "source": [
        "# iii. Report on the score for the SVM, what does the score measure?\n",
        "model.score(train_X.values, train_y.values)"
      ],
      "execution_count": 19,
      "outputs": [
        {
          "output_type": "execute_result",
          "data": {
            "text/plain": [
              "0.9703703703703703"
            ]
          },
          "metadata": {},
          "execution_count": 19
        }
      ]
    },
    {
      "cell_type": "markdown",
      "metadata": {
        "id": "ULoL7mMBNrlS"
      },
      "source": [
        "# Part 5: Neural Network"
      ]
    },
    {
      "cell_type": "code",
      "metadata": {
        "id": "CKKmODVrN9lQ",
        "colab": {
          "base_uri": "https://localhost:8080/"
        },
        "outputId": "867324e3-5ebd-4174-8191-50fe8904c74d"
      },
      "source": [
        "# i. Use sklearn to train a Neural Network (MLP Classifier) on the training set\n",
        "model = MLPClassifier(max_iter=1000) \n",
        "model.fit(train_X.values, train_y.values)"
      ],
      "execution_count": 20,
      "outputs": [
        {
          "output_type": "execute_result",
          "data": {
            "text/plain": [
              "MLPClassifier(activation='relu', alpha=0.0001, batch_size='auto', beta_1=0.9,\n",
              "              beta_2=0.999, early_stopping=False, epsilon=1e-08,\n",
              "              hidden_layer_sizes=(100,), learning_rate='constant',\n",
              "              learning_rate_init=0.001, max_fun=15000, max_iter=1000,\n",
              "              momentum=0.9, n_iter_no_change=10, nesterovs_momentum=True,\n",
              "              power_t=0.5, random_state=None, shuffle=True, solver='adam',\n",
              "              tol=0.0001, validation_fraction=0.1, verbose=False,\n",
              "              warm_start=False)"
            ]
          },
          "metadata": {},
          "execution_count": 20
        }
      ]
    },
    {
      "cell_type": "code",
      "metadata": {
        "id": "5i7r97wDTuXE",
        "colab": {
          "base_uri": "https://localhost:8080/"
        },
        "outputId": "31a4192a-7117-4d42-dc2d-a594c6cb4821"
      },
      "source": [
        "# ii. For a sample datapoint, predict the probabilities for each possible class\n",
        "model.predict([[5, 3, 4, 1]])"
      ],
      "execution_count": 21,
      "outputs": [
        {
          "output_type": "execute_result",
          "data": {
            "text/plain": [
              "array(['versicolor'], dtype='<U10')"
            ]
          },
          "metadata": {},
          "execution_count": 21
        }
      ]
    },
    {
      "cell_type": "code",
      "metadata": {
        "id": "i4OcwiGATuXF",
        "colab": {
          "base_uri": "https://localhost:8080/"
        },
        "outputId": "b85e91e4-d970-4a99-acb0-deadf1428725"
      },
      "source": [
        "model.predict_proba([[5, 3, 4, 1]])"
      ],
      "execution_count": 22,
      "outputs": [
        {
          "output_type": "execute_result",
          "data": {
            "text/plain": [
              "array([[0.00762786, 0.99077538, 0.00159676]])"
            ]
          },
          "metadata": {},
          "execution_count": 22
        }
      ]
    },
    {
      "cell_type": "markdown",
      "metadata": {
        "id": "BhTIsBkDTuXF"
      },
      "source": [
        "The model has a 98% chance of being in class 1 with my sample data points, which is a versicolor flower. My other prediction score labeled the flower as a versicolor."
      ]
    },
    {
      "cell_type": "code",
      "metadata": {
        "id": "aIyFhr-TTuXF",
        "colab": {
          "base_uri": "https://localhost:8080/"
        },
        "outputId": "ae52ff0d-6236-4c7c-dd89-4536501c668e"
      },
      "source": [
        "# iii. Report on the score for the Neural Network, what does the score measure?\n",
        "model.score(train_X.values, train_y.values)"
      ],
      "execution_count": 23,
      "outputs": [
        {
          "output_type": "execute_result",
          "data": {
            "text/plain": [
              "0.9851851851851852"
            ]
          },
          "metadata": {},
          "execution_count": 23
        }
      ]
    },
    {
      "cell_type": "code",
      "metadata": {
        "id": "tfXY7audTuXF"
      },
      "source": [
        "# iv: Experiment with different options for the neural network, report on your best configuration (the highest score I was able to achieve was 0.8666)"
      ],
      "execution_count": 24,
      "outputs": []
    },
    {
      "cell_type": "markdown",
      "metadata": {
        "id": "Zipv91QyTuXG"
      },
      "source": [
        "After experimenting with several different options for the neural network, the highest confidence score that I was able to get was 98%."
      ]
    },
    {
      "cell_type": "markdown",
      "metadata": {
        "id": "_bi5tDwHmC28"
      },
      "source": [
        "# Part 6: K-Nearest Neighbors"
      ]
    },
    {
      "cell_type": "code",
      "metadata": {
        "id": "qCFlfJy2mCg6",
        "colab": {
          "base_uri": "https://localhost:8080/"
        },
        "outputId": "9a061497-717b-4b9e-97f2-ba5c58117251"
      },
      "source": [
        "# i. Use sklearn to 'train' a k-Neighbors Classifier\n",
        "# Note: KNN is a nonparametric model and technically doesn't require training\n",
        "# fit will essentially load the data into the model see link below for more information\n",
        "# https://stats.stackexchange.com/questions/349842/why-do-we-need-to-fit-a-k-nearest-neighbors-classifier\n",
        "model = KNeighborsClassifier() \n",
        "model.fit(train_X.values, train_y)"
      ],
      "execution_count": 25,
      "outputs": [
        {
          "output_type": "execute_result",
          "data": {
            "text/plain": [
              "KNeighborsClassifier(algorithm='auto', leaf_size=30, metric='minkowski',\n",
              "                     metric_params=None, n_jobs=None, n_neighbors=5, p=2,\n",
              "                     weights='uniform')"
            ]
          },
          "metadata": {},
          "execution_count": 25
        }
      ]
    },
    {
      "cell_type": "code",
      "metadata": {
        "id": "OTTuSn1RTuXH",
        "colab": {
          "base_uri": "https://localhost:8080/"
        },
        "outputId": "d6675aa7-c3e1-4f3c-b1b4-dc0fbe9ce2ec"
      },
      "source": [
        "# ii. For a sample datapoint, predict the probabilities for each possible class\n",
        "model.predict([[0, 4, 5, 2]])"
      ],
      "execution_count": 26,
      "outputs": [
        {
          "output_type": "execute_result",
          "data": {
            "text/plain": [
              "array(['versicolor'], dtype=object)"
            ]
          },
          "metadata": {},
          "execution_count": 26
        }
      ]
    },
    {
      "cell_type": "code",
      "metadata": {
        "id": "1HALYzFhTuXH",
        "colab": {
          "base_uri": "https://localhost:8080/"
        },
        "outputId": "944873f4-5fb2-4210-e0bf-5b787a393547"
      },
      "source": [
        "model.predict_proba([[0, 4, 5, 2]])"
      ],
      "execution_count": 27,
      "outputs": [
        {
          "output_type": "execute_result",
          "data": {
            "text/plain": [
              "array([[0. , 0.8, 0.2]])"
            ]
          },
          "metadata": {},
          "execution_count": 27
        }
      ]
    },
    {
      "cell_type": "markdown",
      "metadata": {
        "id": "vX4u1-U1TuXH"
      },
      "source": [
        "The model has a 80% chance of being in class 1 with my sample data points, which is a versicolor flower. My other prediction score labeled the flower as a versicolor."
      ]
    },
    {
      "cell_type": "code",
      "metadata": {
        "id": "GiRvvFzwTuXI",
        "colab": {
          "base_uri": "https://localhost:8080/"
        },
        "outputId": "fb52361c-e155-47c2-91b5-04af7a939692"
      },
      "source": [
        "# iii. Report on the score for kNN, what does the score measure?\n",
        "model.score(train_X.values, train_y)"
      ],
      "execution_count": 28,
      "outputs": [
        {
          "output_type": "execute_result",
          "data": {
            "text/plain": [
              "0.9703703703703703"
            ]
          },
          "metadata": {},
          "execution_count": 28
        }
      ]
    },
    {
      "cell_type": "markdown",
      "metadata": {
        "id": "162Sw3LeoqE2"
      },
      "source": [
        "# Part 7: Conclusions and takeaways\n",
        "\n",
        "In your own words describe the results of the notebook. Which model(s) performed the best on the dataset? Why do you think that is? Did anything surprise you about the exercise?"
      ]
    },
    {
      "cell_type": "markdown",
      "metadata": {
        "id": "ZK5vmlFhTuXJ"
      },
      "source": [
        "Each of the models accurately predicted the correct flower. I attempted either numbers close to the values in the dataset or the actual numbers in the dataset, and got the correct species of flower returned. I used two different prediction models as well and got the same results for each prediction model. \n",
        "\n",
        "The Neural Network model peformed the best with a score of 99% accuracy. Both the Logistical Regression and the Neural Network performed the best out of all of the models. If we were to look at the number of times I ran the notebook, both scores competed with the highest accuracy scores, with Neural Network performing the best.\n",
        "\n",
        "I think this is the case because Neural Networks have a large number of free parameters which gives them the flexibility to fit highly complex data.\n",
        "\n",
        "What surprised me the most was how close the results of the Logistical Regression and the Neural Network performed."
      ]
    }
  ]
}
