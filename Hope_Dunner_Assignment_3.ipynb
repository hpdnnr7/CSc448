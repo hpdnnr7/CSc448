{
  "nbformat": 4,
  "nbformat_minor": 0,
  "metadata": {
    "colab": {
      "name": "Hope Dunner Assignment 3.ipynb",
      "provenance": [],
      "toc_visible": true,
      "include_colab_link": true
    },
    "kernelspec": {
      "display_name": "Python 3 (ipykernel)",
      "language": "python",
      "name": "python3"
    },
    "language_info": {
      "codemirror_mode": {
        "name": "ipython",
        "version": 3
      },
      "file_extension": ".py",
      "mimetype": "text/x-python",
      "name": "python",
      "nbconvert_exporter": "python",
      "pygments_lexer": "ipython3",
      "version": "3.9.7"
    }
  },
  "cells": [
    {
      "cell_type": "markdown",
      "metadata": {
        "id": "view-in-github",
        "colab_type": "text"
      },
      "source": [
        "<a href=\"https://colab.research.google.com/github/hpdnnr7/CSc448/blob/main/Hope_Dunner_Assignment_3.ipynb\" target=\"_parent\"><img src=\"https://colab.research.google.com/assets/colab-badge.svg\" alt=\"Open In Colab\"/></a>"
      ]
    },
    {
      "cell_type": "markdown",
      "metadata": {
        "id": "Z6fR56AZ53sv"
      },
      "source": [
        ""
      ]
    },
    {
      "cell_type": "code",
      "metadata": {
        "id": "doNeSrYM53s2"
      },
      "source": [
        "import pandas as pd \n",
        "import numpy as np\n",
        "from sklearn.model_selection import train_test_split\n",
        "from sklearn.linear_model import LinearRegression\n",
        "from sklearn import datasets\n",
        "from sklearn import svm\n",
        "from sklearn.preprocessing import PolynomialFeatures\n",
        "from sklearn.model_selection import cross_val_score"
      ],
      "execution_count": null,
      "outputs": []
    },
    {
      "cell_type": "markdown",
      "metadata": {
        "id": "hi7fWuhh53s5"
      },
      "source": [
        "## Part 1. Loading the dataset"
      ]
    },
    {
      "cell_type": "code",
      "metadata": {
        "id": "0V2JQ2Iv53s5",
        "outputId": "00e248ee-bb92-4254-a29c-e771f90ed5da"
      },
      "source": [
        "# Using pandas load the dataset (load remotely, not locally)\n",
        "dataset = pd.read_csv(\"https://raw.githubusercontent.com/profmcnich/example_notebook/main/science_data_large.csv\")\n",
        "# Output the first 15 rows of the data\n",
        "dataset.head(15)"
      ],
      "execution_count": null,
      "outputs": [
        {
          "data": {
            "text/html": [
              "<div>\n",
              "<style scoped>\n",
              "    .dataframe tbody tr th:only-of-type {\n",
              "        vertical-align: middle;\n",
              "    }\n",
              "\n",
              "    .dataframe tbody tr th {\n",
              "        vertical-align: top;\n",
              "    }\n",
              "\n",
              "    .dataframe thead th {\n",
              "        text-align: right;\n",
              "    }\n",
              "</style>\n",
              "<table border=\"1\" class=\"dataframe\">\n",
              "  <thead>\n",
              "    <tr style=\"text-align: right;\">\n",
              "      <th></th>\n",
              "      <th>Temperature °C</th>\n",
              "      <th>Mols KCL</th>\n",
              "      <th>Size nm^3</th>\n",
              "    </tr>\n",
              "  </thead>\n",
              "  <tbody>\n",
              "    <tr>\n",
              "      <th>0</th>\n",
              "      <td>469</td>\n",
              "      <td>647</td>\n",
              "      <td>6.244743e+05</td>\n",
              "    </tr>\n",
              "    <tr>\n",
              "      <th>1</th>\n",
              "      <td>403</td>\n",
              "      <td>694</td>\n",
              "      <td>5.779610e+05</td>\n",
              "    </tr>\n",
              "    <tr>\n",
              "      <th>2</th>\n",
              "      <td>302</td>\n",
              "      <td>975</td>\n",
              "      <td>6.196847e+05</td>\n",
              "    </tr>\n",
              "    <tr>\n",
              "      <th>3</th>\n",
              "      <td>779</td>\n",
              "      <td>916</td>\n",
              "      <td>1.460449e+06</td>\n",
              "    </tr>\n",
              "    <tr>\n",
              "      <th>4</th>\n",
              "      <td>901</td>\n",
              "      <td>18</td>\n",
              "      <td>4.325726e+04</td>\n",
              "    </tr>\n",
              "    <tr>\n",
              "      <th>5</th>\n",
              "      <td>545</td>\n",
              "      <td>637</td>\n",
              "      <td>7.124634e+05</td>\n",
              "    </tr>\n",
              "    <tr>\n",
              "      <th>6</th>\n",
              "      <td>660</td>\n",
              "      <td>519</td>\n",
              "      <td>7.006960e+05</td>\n",
              "    </tr>\n",
              "    <tr>\n",
              "      <th>7</th>\n",
              "      <td>143</td>\n",
              "      <td>869</td>\n",
              "      <td>2.718260e+05</td>\n",
              "    </tr>\n",
              "    <tr>\n",
              "      <th>8</th>\n",
              "      <td>89</td>\n",
              "      <td>461</td>\n",
              "      <td>8.919803e+04</td>\n",
              "    </tr>\n",
              "    <tr>\n",
              "      <th>9</th>\n",
              "      <td>294</td>\n",
              "      <td>776</td>\n",
              "      <td>4.770210e+05</td>\n",
              "    </tr>\n",
              "    <tr>\n",
              "      <th>10</th>\n",
              "      <td>991</td>\n",
              "      <td>117</td>\n",
              "      <td>2.441771e+05</td>\n",
              "    </tr>\n",
              "    <tr>\n",
              "      <th>11</th>\n",
              "      <td>307</td>\n",
              "      <td>781</td>\n",
              "      <td>5.006455e+05</td>\n",
              "    </tr>\n",
              "    <tr>\n",
              "      <th>12</th>\n",
              "      <td>206</td>\n",
              "      <td>70</td>\n",
              "      <td>3.145200e+04</td>\n",
              "    </tr>\n",
              "    <tr>\n",
              "      <th>13</th>\n",
              "      <td>437</td>\n",
              "      <td>599</td>\n",
              "      <td>5.390215e+05</td>\n",
              "    </tr>\n",
              "    <tr>\n",
              "      <th>14</th>\n",
              "      <td>566</td>\n",
              "      <td>75</td>\n",
              "      <td>9.185271e+04</td>\n",
              "    </tr>\n",
              "  </tbody>\n",
              "</table>\n",
              "</div>"
            ],
            "text/plain": [
              "    Temperature °C  Mols KCL     Size nm^3\n",
              "0              469       647  6.244743e+05\n",
              "1              403       694  5.779610e+05\n",
              "2              302       975  6.196847e+05\n",
              "3              779       916  1.460449e+06\n",
              "4              901        18  4.325726e+04\n",
              "5              545       637  7.124634e+05\n",
              "6              660       519  7.006960e+05\n",
              "7              143       869  2.718260e+05\n",
              "8               89       461  8.919803e+04\n",
              "9              294       776  4.770210e+05\n",
              "10             991       117  2.441771e+05\n",
              "11             307       781  5.006455e+05\n",
              "12             206        70  3.145200e+04\n",
              "13             437       599  5.390215e+05\n",
              "14             566        75  9.185271e+04"
            ]
          },
          "execution_count": 2,
          "metadata": {},
          "output_type": "execute_result"
        }
      ]
    },
    {
      "cell_type": "code",
      "metadata": {
        "id": "7zD37soiyEYP",
        "outputId": "bc0521fd-1ce1-4613-ed32-c561c38caa97"
      },
      "source": [
        "# Display a summary of the table information (number of datapoints, etc.)\n",
        "df = pd.DataFrame(dataset)\n",
        "print(\"Summary of the basic information about this DataFrame and its data:\")\n",
        "print(df.info())\n",
        "display(df.describe())"
      ],
      "execution_count": null,
      "outputs": [
        {
          "name": "stdout",
          "output_type": "stream",
          "text": [
            "Summary of the basic information about this DataFrame and its data:\n",
            "<class 'pandas.core.frame.DataFrame'>\n",
            "RangeIndex: 1000 entries, 0 to 999\n",
            "Data columns (total 3 columns):\n",
            " #   Column          Non-Null Count  Dtype  \n",
            "---  ------          --------------  -----  \n",
            " 0   Temperature °C  1000 non-null   int64  \n",
            " 1   Mols KCL        1000 non-null   int64  \n",
            " 2   Size nm^3       1000 non-null   float64\n",
            "dtypes: float64(1), int64(2)\n",
            "memory usage: 23.6 KB\n",
            "None\n"
          ]
        },
        {
          "data": {
            "text/html": [
              "<div>\n",
              "<style scoped>\n",
              "    .dataframe tbody tr th:only-of-type {\n",
              "        vertical-align: middle;\n",
              "    }\n",
              "\n",
              "    .dataframe tbody tr th {\n",
              "        vertical-align: top;\n",
              "    }\n",
              "\n",
              "    .dataframe thead th {\n",
              "        text-align: right;\n",
              "    }\n",
              "</style>\n",
              "<table border=\"1\" class=\"dataframe\">\n",
              "  <thead>\n",
              "    <tr style=\"text-align: right;\">\n",
              "      <th></th>\n",
              "      <th>Temperature °C</th>\n",
              "      <th>Mols KCL</th>\n",
              "      <th>Size nm^3</th>\n",
              "    </tr>\n",
              "  </thead>\n",
              "  <tbody>\n",
              "    <tr>\n",
              "      <th>count</th>\n",
              "      <td>1000.000000</td>\n",
              "      <td>1000.000000</td>\n",
              "      <td>1.000000e+03</td>\n",
              "    </tr>\n",
              "    <tr>\n",
              "      <th>mean</th>\n",
              "      <td>500.500000</td>\n",
              "      <td>471.530000</td>\n",
              "      <td>5.086111e+05</td>\n",
              "    </tr>\n",
              "    <tr>\n",
              "      <th>std</th>\n",
              "      <td>288.819436</td>\n",
              "      <td>288.482872</td>\n",
              "      <td>4.474838e+05</td>\n",
              "    </tr>\n",
              "    <tr>\n",
              "      <th>min</th>\n",
              "      <td>1.000000</td>\n",
              "      <td>1.000000</td>\n",
              "      <td>1.611429e+01</td>\n",
              "    </tr>\n",
              "    <tr>\n",
              "      <th>25%</th>\n",
              "      <td>250.750000</td>\n",
              "      <td>226.750000</td>\n",
              "      <td>1.298267e+05</td>\n",
              "    </tr>\n",
              "    <tr>\n",
              "      <th>50%</th>\n",
              "      <td>500.500000</td>\n",
              "      <td>459.500000</td>\n",
              "      <td>3.827182e+05</td>\n",
              "    </tr>\n",
              "    <tr>\n",
              "      <th>75%</th>\n",
              "      <td>750.250000</td>\n",
              "      <td>710.250000</td>\n",
              "      <td>7.603211e+05</td>\n",
              "    </tr>\n",
              "    <tr>\n",
              "      <th>max</th>\n",
              "      <td>1000.000000</td>\n",
              "      <td>1000.000000</td>\n",
              "      <td>1.972127e+06</td>\n",
              "    </tr>\n",
              "  </tbody>\n",
              "</table>\n",
              "</div>"
            ],
            "text/plain": [
              "       Temperature °C     Mols KCL     Size nm^3\n",
              "count     1000.000000  1000.000000  1.000000e+03\n",
              "mean       500.500000   471.530000  5.086111e+05\n",
              "std        288.819436   288.482872  4.474838e+05\n",
              "min          1.000000     1.000000  1.611429e+01\n",
              "25%        250.750000   226.750000  1.298267e+05\n",
              "50%        500.500000   459.500000  3.827182e+05\n",
              "75%        750.250000   710.250000  7.603211e+05\n",
              "max       1000.000000  1000.000000  1.972127e+06"
            ]
          },
          "metadata": {},
          "output_type": "display_data"
        }
      ]
    },
    {
      "cell_type": "markdown",
      "metadata": {
        "id": "HybNdEOK53s6"
      },
      "source": [
        "## Part 2. Splitting the dataset"
      ]
    },
    {
      "cell_type": "code",
      "metadata": {
        "id": "WpRq7cyi53s7",
        "outputId": "3f74d150-e94d-4c3d-bf75-18326ac150e0"
      },
      "source": [
        "# Take the pandas dataset and split it into our features (X) and label (y)\n",
        "features = df[[\"Temperature °C\", \"Mols KCL\"]]\n",
        "label = df[\"Size nm^3\"]\n",
        "X, y = features, label\n",
        "# Use sklearn to split the features and labels into a training/test set. (90% train, 10% test)\n",
        "X_train,X_test,y_train,y_test=train_test_split(X,y,test_size=.10, random_state=42)\n",
        "X_train, X_test, y_train, y_test"
      ],
      "execution_count": null,
      "outputs": [
        {
          "data": {
            "text/plain": [
              "(     Temperature °C  Mols KCL\n",
              " 716              95       499\n",
              " 351             243       384\n",
              " 936              47       211\n",
              " 256             495       497\n",
              " 635              82       421\n",
              " ..              ...       ...\n",
              " 106             439        40\n",
              " 270             665       245\n",
              " 860             471       620\n",
              " 435             829       259\n",
              " 102             636       388\n",
              " \n",
              " [900 rows x 2 columns],\n",
              "      Temperature °C  Mols KCL\n",
              " 521             100       541\n",
              " 737             635       668\n",
              " 740             799       665\n",
              " 660             966       871\n",
              " 411             785       595\n",
              " ..              ...       ...\n",
              " 436             421       725\n",
              " 764             431       860\n",
              " 88              983       433\n",
              " 63              580       817\n",
              " 826              24        89\n",
              " \n",
              " [100 rows x 2 columns],\n",
              " 716    103064.31430\n",
              " 351    193753.02860\n",
              " 936     21670.02857\n",
              " 256    505027.40000\n",
              " 635     75092.02857\n",
              "            ...     \n",
              " 106     40433.71429\n",
              " 270    335545.00000\n",
              " 860    600674.85710\n",
              " 435    441286.60000\n",
              " 102    505469.25710\n",
              " Name: Size nm^3, Length: 900, dtype: float64,\n",
              " 521    1.177623e+05\n",
              " 737    8.687293e+05\n",
              " 740    1.084893e+06\n",
              " 660    1.716039e+06\n",
              " 411    9.536850e+05\n",
              "            ...     \n",
              " 436    6.305199e+05\n",
              " 764    7.676234e+05\n",
              " 88     8.684308e+05\n",
              " 63     9.737511e+05\n",
              " 826    4.786314e+03\n",
              " Name: Size nm^3, Length: 100, dtype: float64)"
            ]
          },
          "execution_count": 4,
          "metadata": {},
          "output_type": "execute_result"
        }
      ]
    },
    {
      "cell_type": "markdown",
      "metadata": {
        "id": "F3Ky5DUi53s8"
      },
      "source": [
        "## Part 3. Perform a Linear Regression"
      ]
    },
    {
      "cell_type": "code",
      "metadata": {
        "id": "loFM5ERQ53s9",
        "outputId": "d6e219d4-6ea5-4e27-c3da-87b0c63f55fd"
      },
      "source": [
        "# Use sklearn to train a model on the training set\n",
        "\n",
        "# Create a sample datapoint and predict the output of that sample with the trained model\n",
        "model = LinearRegression().fit(X_train.values, y_train.values)\n",
        "model.score(X_train.values, y_train.values)\n",
        "# Report on the score for that model, in your own words (markdown, not code) explain what the score means\n",
        "# Extract the coefficents and intercept from the model and write an equation for your h(x) using LaTeX"
      ],
      "execution_count": null,
      "outputs": [
        {
          "data": {
            "text/plain": [
              "0.8610082946223787"
            ]
          },
          "execution_count": 5,
          "metadata": {},
          "output_type": "execute_result"
        }
      ]
    },
    {
      "cell_type": "code",
      "metadata": {
        "id": "MghfrQCDyEYU",
        "outputId": "9be14a7e-4c97-48d1-efcd-2754da8adbd9"
      },
      "source": [
        "model.predict(np.array([[3,5]]))"
      ],
      "execution_count": null,
      "outputs": [
        {
          "data": {
            "text/plain": [
              "array([-401629.56501086])"
            ]
          },
          "execution_count": 6,
          "metadata": {},
          "output_type": "execute_result"
        }
      ]
    },
    {
      "cell_type": "code",
      "metadata": {
        "id": "Egbe9s1VyEYV",
        "outputId": "ec5706fd-802a-4871-e4c9-91478d3fefc6"
      },
      "source": [
        "model.coef_"
      ],
      "execution_count": null,
      "outputs": [
        {
          "data": {
            "text/plain": [
              "array([ 866.14641337, 1032.69506649])"
            ]
          },
          "execution_count": 7,
          "metadata": {},
          "output_type": "execute_result"
        }
      ]
    },
    {
      "cell_type": "code",
      "metadata": {
        "id": "O45Vr6NSyEYW",
        "outputId": "5cb3d47d-6bfd-47bd-9b57-b8edf31082c4"
      },
      "source": [
        "model.intercept_"
      ],
      "execution_count": null,
      "outputs": [
        {
          "data": {
            "text/plain": [
              "-409391.47958340764"
            ]
          },
          "execution_count": 8,
          "metadata": {},
          "output_type": "execute_result"
        }
      ]
    },
    {
      "cell_type": "markdown",
      "metadata": {
        "id": "mpSspQbxyEYW"
      },
      "source": [
        "$$ h(x) = 866.14641337 * x_0 + 1032.69506649 * x_1 -409391.47958340764$$"
      ]
    },
    {
      "cell_type": "markdown",
      "metadata": {
        "id": "H7krI6ft53s-"
      },
      "source": [
        "Sample equation: $E = mc^2$"
      ]
    },
    {
      "cell_type": "markdown",
      "metadata": {
        "id": "ynuqS0Ge53s_"
      },
      "source": [
        "## Part 4. Use Cross Validation"
      ]
    },
    {
      "cell_type": "code",
      "metadata": {
        "id": "PdS67eSq53s_"
      },
      "source": [
        "# Use the cross_val_score function to repeat your experiment across many shuffles of the data\n",
        "\n",
        "# Report on their finding and their significance"
      ],
      "execution_count": null,
      "outputs": []
    },
    {
      "cell_type": "code",
      "metadata": {
        "id": "0cm12komyEYY",
        "outputId": "64adbbe8-3bb5-4d2d-dc9c-034dede0a360"
      },
      "source": [
        "X_train.shape, y_train.shape"
      ],
      "execution_count": null,
      "outputs": [
        {
          "data": {
            "text/plain": [
              "((900, 2), (900,))"
            ]
          },
          "execution_count": 10,
          "metadata": {},
          "output_type": "execute_result"
        }
      ]
    },
    {
      "cell_type": "code",
      "metadata": {
        "scrolled": true,
        "id": "AiQ_YYnXyEYa",
        "outputId": "ae69a810-367b-4918-d64d-553bf8da6cd0"
      },
      "source": [
        "X_test.shape, y_test.shape"
      ],
      "execution_count": null,
      "outputs": [
        {
          "data": {
            "text/plain": [
              "((100, 2), (100,))"
            ]
          },
          "execution_count": 11,
          "metadata": {},
          "output_type": "execute_result"
        }
      ]
    },
    {
      "cell_type": "code",
      "metadata": {
        "id": "rYbBQIsgyEYb",
        "outputId": "b6fc65d9-2434-44a7-f775-284e7131bd44"
      },
      "source": [
        "clf = svm.SVR(kernel='linear', C=1).fit(X_train.values, y_train.values)\n",
        "clf.score(X_test.values, y_test.values)"
      ],
      "execution_count": null,
      "outputs": [
        {
          "data": {
            "text/plain": [
              "0.8581748359324678"
            ]
          },
          "execution_count": 12,
          "metadata": {},
          "output_type": "execute_result"
        }
      ]
    },
    {
      "cell_type": "markdown",
      "metadata": {
        "id": "IFku8sjuyEYd"
      },
      "source": [
        "0.85 accuracy with a standard deviation of 0.15"
      ]
    },
    {
      "cell_type": "markdown",
      "metadata": {
        "id": "ezmjXHrc53tA"
      },
      "source": [
        "## Part 5. Using Polynomial Regression"
      ]
    },
    {
      "cell_type": "code",
      "metadata": {
        "id": "QGvRlKW553tB",
        "outputId": "836f921f-f70f-4e82-c64b-274ee2150bd4"
      },
      "source": [
        "# Using the PolynomialFeatures library perform another regression on an augmented dataset of degree 2\n",
        "poly = PolynomialFeatures(2)\n",
        "X_train = poly.fit_transform(X_train)\n",
        "X_test = poly.fit_transform(X_test)\n",
        "\n",
        "poly_model = model\n",
        "\n",
        "\n",
        "poly_model.fit(X_train, y_train)\n",
        "# Report on the metrics and output the resultant equation as you did in Part 3.\n"
      ],
      "execution_count": null,
      "outputs": [
        {
          "data": {
            "text/plain": [
              "LinearRegression()"
            ]
          },
          "execution_count": 13,
          "metadata": {},
          "output_type": "execute_result"
        }
      ]
    },
    {
      "cell_type": "code",
      "metadata": {
        "id": "KnM0WlDFyEYi",
        "outputId": "4ace3ce5-5620-40a8-c017-7ffb3d14675a"
      },
      "source": [
        "poly_model.score(X_train, y_train)"
      ],
      "execution_count": null,
      "outputs": [
        {
          "data": {
            "text/plain": [
              "1.0"
            ]
          },
          "execution_count": 14,
          "metadata": {},
          "output_type": "execute_result"
        }
      ]
    },
    {
      "cell_type": "code",
      "metadata": {
        "id": "1Df1fAkLyEYi",
        "outputId": "a4911b8e-4e25-4a43-921a-a957ef4bb6c1"
      },
      "source": [
        "poly_model.coef_"
      ],
      "execution_count": null,
      "outputs": [
        {
          "data": {
            "text/plain": [
              "array([ 0.00000000e+00,  1.20000000e+01, -1.27195488e-07,  1.26494371e-11,\n",
              "        2.00000000e+00,  2.85714287e-02])"
            ]
          },
          "execution_count": 15,
          "metadata": {},
          "output_type": "execute_result"
        }
      ]
    },
    {
      "cell_type": "code",
      "metadata": {
        "id": "R1AWEPJEyEYj",
        "outputId": "e61b8652-4a86-4be5-f65d-6d0646355130"
      },
      "source": [
        "poly_model.intercept_"
      ],
      "execution_count": null,
      "outputs": [
        {
          "data": {
            "text/plain": [
              "2.0477105863392353e-05"
            ]
          },
          "execution_count": 16,
          "metadata": {},
          "output_type": "execute_result"
        }
      ]
    },
    {
      "cell_type": "code",
      "metadata": {
        "id": "xEx_fHgByEYj",
        "outputId": "7434e4c0-3dcf-41b8-d03d-c8c0f2577d6a"
      },
      "source": [
        "poly_model.predict(X_test)"
      ],
      "execution_count": null,
      "outputs": [
        {
          "data": {
            "text/plain": [
              "array([1.17762314e+05, 8.68729257e+05, 1.08489300e+06, 1.71603946e+06,\n",
              "       9.53685000e+05, 1.15057114e+05, 2.22299400e+05, 2.85719400e+05,\n",
              "       2.87802714e+05, 3.58129714e+05, 2.43109457e+05, 2.56621829e+05,\n",
              "       8.23168314e+05, 1.28610714e+05, 3.55214714e+05, 5.49207314e+05,\n",
              "       7.11794571e+04, 4.10720600e+05, 2.17334314e+05, 1.48665911e+06,\n",
              "       7.61464000e+04, 3.30257161e+02, 1.44061911e+06, 6.87856114e+05,\n",
              "       3.04432457e+05, 1.23172829e+05, 3.30255457e+05, 7.97577257e+05,\n",
              "       1.07736803e+06, 1.50313257e+05, 3.50800114e+05, 1.16391429e+05,\n",
              "       3.60092314e+05, 6.22649829e+05, 3.89294314e+05, 9.72528114e+05,\n",
              "       4.92891314e+05, 4.52268000e+05, 5.54434600e+05, 9.38430829e+05,\n",
              "       2.24846314e+05, 8.28351143e+04, 9.65613829e+05, 1.14028114e+05,\n",
              "       4.08676457e+05, 1.01254603e+06, 4.80946400e+05, 3.60768257e+05,\n",
              "       3.19070314e+05, 8.73038314e+05, 3.05002257e+05, 1.59435511e+06,\n",
              "       1.24219443e+06, 1.48395457e+05, 1.36031143e+04, 1.10432926e+06,\n",
              "       5.25291429e+05, 2.44177114e+05, 1.18924114e+05, 4.55983857e+05,\n",
              "       9.71624114e+05, 9.13729029e+05, 2.45060457e+05, 4.03842857e+05,\n",
              "       1.40512903e+06, 3.34372457e+05, 1.02252331e+06, 3.37170857e+05,\n",
              "       6.80136829e+05, 3.11877257e+05, 1.04920946e+06, 1.30851000e+05,\n",
              "       4.94674314e+05, 5.56986600e+05, 6.51534571e+04, 7.32261029e+05,\n",
              "       1.02109714e+05, 7.88616000e+04, 8.23033029e+05, 3.03944714e+05,\n",
              "       2.77241143e+04, 3.42182029e+05, 1.10411426e+06, 7.12977114e+05,\n",
              "       1.50487143e+04, 3.19512429e+05, 8.68479400e+05, 3.13061829e+05,\n",
              "       3.77713029e+05, 6.39442429e+05, 1.24874203e+06, 1.46083211e+06,\n",
              "       4.99694829e+05, 1.89236829e+05, 1.23976740e+06, 6.30519857e+05,\n",
              "       7.67623429e+05, 8.68430829e+05, 9.73751114e+05, 4.78631430e+03])"
            ]
          },
          "execution_count": 18,
          "metadata": {},
          "output_type": "execute_result"
        }
      ]
    }
  ]
}