{
  "nbformat": 4,
  "nbformat_minor": 0,
  "metadata": {
    "colab": {
      "name": "Hope Dunner Assignment 3.ipynb",
      "provenance": [],
      "include_colab_link": true
    },
    "kernelspec": {
      "display_name": "Python 3 (ipykernel)",
      "language": "python",
      "name": "python3"
    },
    "language_info": {
      "codemirror_mode": {
        "name": "ipython",
        "version": 3
      },
      "file_extension": ".py",
      "mimetype": "text/x-python",
      "name": "python",
      "nbconvert_exporter": "python",
      "pygments_lexer": "ipython3",
      "version": "3.9.7"
    }
  },
  "cells": [
    {
      "cell_type": "markdown",
      "metadata": {
        "id": "view-in-github",
        "colab_type": "text"
      },
      "source": [
        "<a href=\"https://colab.research.google.com/github/hpdnnr7/CSc448/blob/main/Hope_Dunner_Assignment_3.ipynb\" target=\"_parent\"><img src=\"https://colab.research.google.com/assets/colab-badge.svg\" alt=\"Open In Colab\"/></a>"
      ]
    },
    {
      "cell_type": "code",
      "metadata": {
        "id": "doNeSrYM53s2"
      },
      "source": [
        "import pandas as pd \n",
        "import numpy as np\n",
        "from sklearn.model_selection import train_test_split\n",
        "from sklearn.linear_model import LinearRegression\n",
        "from sklearn import datasets\n",
        "from sklearn.preprocessing import PolynomialFeatures\n",
        "from sklearn.model_selection import cross_val_score"
      ],
      "execution_count": null,
      "outputs": []
    },
    {
      "cell_type": "markdown",
      "metadata": {
        "id": "hi7fWuhh53s5"
      },
      "source": [
        "## Part 1. Loading the dataset"
      ]
    },
    {
      "cell_type": "code",
      "metadata": {
        "id": "0V2JQ2Iv53s5",
        "outputId": "7749dfe0-07c5-4d75-a4fa-78451f921255"
      },
      "source": [
        "# Using pandas load the dataset (load remotely, not locally)\n",
        "dataset = pd.read_csv(\"https://raw.githubusercontent.com/profmcnich/example_notebook/main/science_data_large.csv\")\n",
        "# Output the first 15 rows of the data\n",
        "dataset.head(15)"
      ],
      "execution_count": null,
      "outputs": [
        {
          "data": {
            "text/html": [
              "<div>\n",
              "<style scoped>\n",
              "    .dataframe tbody tr th:only-of-type {\n",
              "        vertical-align: middle;\n",
              "    }\n",
              "\n",
              "    .dataframe tbody tr th {\n",
              "        vertical-align: top;\n",
              "    }\n",
              "\n",
              "    .dataframe thead th {\n",
              "        text-align: right;\n",
              "    }\n",
              "</style>\n",
              "<table border=\"1\" class=\"dataframe\">\n",
              "  <thead>\n",
              "    <tr style=\"text-align: right;\">\n",
              "      <th></th>\n",
              "      <th>Temperature °C</th>\n",
              "      <th>Mols KCL</th>\n",
              "      <th>Size nm^3</th>\n",
              "    </tr>\n",
              "  </thead>\n",
              "  <tbody>\n",
              "    <tr>\n",
              "      <th>0</th>\n",
              "      <td>469</td>\n",
              "      <td>647</td>\n",
              "      <td>6.244743e+05</td>\n",
              "    </tr>\n",
              "    <tr>\n",
              "      <th>1</th>\n",
              "      <td>403</td>\n",
              "      <td>694</td>\n",
              "      <td>5.779610e+05</td>\n",
              "    </tr>\n",
              "    <tr>\n",
              "      <th>2</th>\n",
              "      <td>302</td>\n",
              "      <td>975</td>\n",
              "      <td>6.196847e+05</td>\n",
              "    </tr>\n",
              "    <tr>\n",
              "      <th>3</th>\n",
              "      <td>779</td>\n",
              "      <td>916</td>\n",
              "      <td>1.460449e+06</td>\n",
              "    </tr>\n",
              "    <tr>\n",
              "      <th>4</th>\n",
              "      <td>901</td>\n",
              "      <td>18</td>\n",
              "      <td>4.325726e+04</td>\n",
              "    </tr>\n",
              "    <tr>\n",
              "      <th>5</th>\n",
              "      <td>545</td>\n",
              "      <td>637</td>\n",
              "      <td>7.124634e+05</td>\n",
              "    </tr>\n",
              "    <tr>\n",
              "      <th>6</th>\n",
              "      <td>660</td>\n",
              "      <td>519</td>\n",
              "      <td>7.006960e+05</td>\n",
              "    </tr>\n",
              "    <tr>\n",
              "      <th>7</th>\n",
              "      <td>143</td>\n",
              "      <td>869</td>\n",
              "      <td>2.718260e+05</td>\n",
              "    </tr>\n",
              "    <tr>\n",
              "      <th>8</th>\n",
              "      <td>89</td>\n",
              "      <td>461</td>\n",
              "      <td>8.919803e+04</td>\n",
              "    </tr>\n",
              "    <tr>\n",
              "      <th>9</th>\n",
              "      <td>294</td>\n",
              "      <td>776</td>\n",
              "      <td>4.770210e+05</td>\n",
              "    </tr>\n",
              "    <tr>\n",
              "      <th>10</th>\n",
              "      <td>991</td>\n",
              "      <td>117</td>\n",
              "      <td>2.441771e+05</td>\n",
              "    </tr>\n",
              "    <tr>\n",
              "      <th>11</th>\n",
              "      <td>307</td>\n",
              "      <td>781</td>\n",
              "      <td>5.006455e+05</td>\n",
              "    </tr>\n",
              "    <tr>\n",
              "      <th>12</th>\n",
              "      <td>206</td>\n",
              "      <td>70</td>\n",
              "      <td>3.145200e+04</td>\n",
              "    </tr>\n",
              "    <tr>\n",
              "      <th>13</th>\n",
              "      <td>437</td>\n",
              "      <td>599</td>\n",
              "      <td>5.390215e+05</td>\n",
              "    </tr>\n",
              "    <tr>\n",
              "      <th>14</th>\n",
              "      <td>566</td>\n",
              "      <td>75</td>\n",
              "      <td>9.185271e+04</td>\n",
              "    </tr>\n",
              "  </tbody>\n",
              "</table>\n",
              "</div>"
            ],
            "text/plain": [
              "    Temperature °C  Mols KCL     Size nm^3\n",
              "0              469       647  6.244743e+05\n",
              "1              403       694  5.779610e+05\n",
              "2              302       975  6.196847e+05\n",
              "3              779       916  1.460449e+06\n",
              "4              901        18  4.325726e+04\n",
              "5              545       637  7.124634e+05\n",
              "6              660       519  7.006960e+05\n",
              "7              143       869  2.718260e+05\n",
              "8               89       461  8.919803e+04\n",
              "9              294       776  4.770210e+05\n",
              "10             991       117  2.441771e+05\n",
              "11             307       781  5.006455e+05\n",
              "12             206        70  3.145200e+04\n",
              "13             437       599  5.390215e+05\n",
              "14             566        75  9.185271e+04"
            ]
          },
          "execution_count": 3,
          "metadata": {},
          "output_type": "execute_result"
        }
      ]
    },
    {
      "cell_type": "code",
      "metadata": {
        "id": "NTbTTueVGnlf",
        "outputId": "21cc7935-ff09-41c9-8643-da2fe7ae475e"
      },
      "source": [
        "# Display a summary of the table information (number of datapoints, etc.)\n",
        "df = pd.DataFrame(dataset)\n",
        "print(\"Summary of the basic information about this DataFrame and its data:\")\n",
        "print(df.info())\n",
        "display(df.describe())"
      ],
      "execution_count": null,
      "outputs": [
        {
          "name": "stdout",
          "output_type": "stream",
          "text": [
            "Summary of the basic information about this DataFrame and its data:\n",
            "<class 'pandas.core.frame.DataFrame'>\n",
            "RangeIndex: 1000 entries, 0 to 999\n",
            "Data columns (total 3 columns):\n",
            " #   Column          Non-Null Count  Dtype  \n",
            "---  ------          --------------  -----  \n",
            " 0   Temperature °C  1000 non-null   int64  \n",
            " 1   Mols KCL        1000 non-null   int64  \n",
            " 2   Size nm^3       1000 non-null   float64\n",
            "dtypes: float64(1), int64(2)\n",
            "memory usage: 23.6 KB\n",
            "None\n"
          ]
        },
        {
          "data": {
            "text/html": [
              "<div>\n",
              "<style scoped>\n",
              "    .dataframe tbody tr th:only-of-type {\n",
              "        vertical-align: middle;\n",
              "    }\n",
              "\n",
              "    .dataframe tbody tr th {\n",
              "        vertical-align: top;\n",
              "    }\n",
              "\n",
              "    .dataframe thead th {\n",
              "        text-align: right;\n",
              "    }\n",
              "</style>\n",
              "<table border=\"1\" class=\"dataframe\">\n",
              "  <thead>\n",
              "    <tr style=\"text-align: right;\">\n",
              "      <th></th>\n",
              "      <th>Temperature °C</th>\n",
              "      <th>Mols KCL</th>\n",
              "      <th>Size nm^3</th>\n",
              "    </tr>\n",
              "  </thead>\n",
              "  <tbody>\n",
              "    <tr>\n",
              "      <th>count</th>\n",
              "      <td>1000.000000</td>\n",
              "      <td>1000.000000</td>\n",
              "      <td>1.000000e+03</td>\n",
              "    </tr>\n",
              "    <tr>\n",
              "      <th>mean</th>\n",
              "      <td>500.500000</td>\n",
              "      <td>471.530000</td>\n",
              "      <td>5.086111e+05</td>\n",
              "    </tr>\n",
              "    <tr>\n",
              "      <th>std</th>\n",
              "      <td>288.819436</td>\n",
              "      <td>288.482872</td>\n",
              "      <td>4.474838e+05</td>\n",
              "    </tr>\n",
              "    <tr>\n",
              "      <th>min</th>\n",
              "      <td>1.000000</td>\n",
              "      <td>1.000000</td>\n",
              "      <td>1.611429e+01</td>\n",
              "    </tr>\n",
              "    <tr>\n",
              "      <th>25%</th>\n",
              "      <td>250.750000</td>\n",
              "      <td>226.750000</td>\n",
              "      <td>1.298267e+05</td>\n",
              "    </tr>\n",
              "    <tr>\n",
              "      <th>50%</th>\n",
              "      <td>500.500000</td>\n",
              "      <td>459.500000</td>\n",
              "      <td>3.827182e+05</td>\n",
              "    </tr>\n",
              "    <tr>\n",
              "      <th>75%</th>\n",
              "      <td>750.250000</td>\n",
              "      <td>710.250000</td>\n",
              "      <td>7.603211e+05</td>\n",
              "    </tr>\n",
              "    <tr>\n",
              "      <th>max</th>\n",
              "      <td>1000.000000</td>\n",
              "      <td>1000.000000</td>\n",
              "      <td>1.972127e+06</td>\n",
              "    </tr>\n",
              "  </tbody>\n",
              "</table>\n",
              "</div>"
            ],
            "text/plain": [
              "       Temperature °C     Mols KCL     Size nm^3\n",
              "count     1000.000000  1000.000000  1.000000e+03\n",
              "mean       500.500000   471.530000  5.086111e+05\n",
              "std        288.819436   288.482872  4.474838e+05\n",
              "min          1.000000     1.000000  1.611429e+01\n",
              "25%        250.750000   226.750000  1.298267e+05\n",
              "50%        500.500000   459.500000  3.827182e+05\n",
              "75%        750.250000   710.250000  7.603211e+05\n",
              "max       1000.000000  1000.000000  1.972127e+06"
            ]
          },
          "metadata": {},
          "output_type": "display_data"
        }
      ]
    },
    {
      "cell_type": "markdown",
      "metadata": {
        "id": "HybNdEOK53s6"
      },
      "source": [
        "## Part 2. Splitting the dataset"
      ]
    },
    {
      "cell_type": "code",
      "metadata": {
        "id": "WpRq7cyi53s7",
        "outputId": "8f9afddb-33ab-4678-f2ca-b35139f40920"
      },
      "source": [
        "# Take the pandas dataset and split it into our features (X) and label (y)\n",
        "features = df[[\"Temperature °C\", \"Mols KCL\"]]\n",
        "label = df[\"Size nm^3\"]\n",
        "X, y = features, label\n",
        "# Use sklearn to split the features and labels into a training/test set. (90% train, 10% test)\n",
        "X_train,X_test,y_train,y_test=train_test_split(X,y,test_size=.10, random_state=42)\n",
        "X_train, X_test, y_train, y_test"
      ],
      "execution_count": null,
      "outputs": [
        {
          "data": {
            "text/plain": [
              "(     Temperature °C  Mols KCL\n",
              " 716              95       499\n",
              " 351             243       384\n",
              " 936              47       211\n",
              " 256             495       497\n",
              " 635              82       421\n",
              " ..              ...       ...\n",
              " 106             439        40\n",
              " 270             665       245\n",
              " 860             471       620\n",
              " 435             829       259\n",
              " 102             636       388\n",
              " \n",
              " [900 rows x 2 columns],\n",
              "      Temperature °C  Mols KCL\n",
              " 521             100       541\n",
              " 737             635       668\n",
              " 740             799       665\n",
              " 660             966       871\n",
              " 411             785       595\n",
              " ..              ...       ...\n",
              " 436             421       725\n",
              " 764             431       860\n",
              " 88              983       433\n",
              " 63              580       817\n",
              " 826              24        89\n",
              " \n",
              " [100 rows x 2 columns],\n",
              " 716    103064.31430\n",
              " 351    193753.02860\n",
              " 936     21670.02857\n",
              " 256    505027.40000\n",
              " 635     75092.02857\n",
              "            ...     \n",
              " 106     40433.71429\n",
              " 270    335545.00000\n",
              " 860    600674.85710\n",
              " 435    441286.60000\n",
              " 102    505469.25710\n",
              " Name: Size nm^3, Length: 900, dtype: float64,\n",
              " 521    1.177623e+05\n",
              " 737    8.687293e+05\n",
              " 740    1.084893e+06\n",
              " 660    1.716039e+06\n",
              " 411    9.536850e+05\n",
              "            ...     \n",
              " 436    6.305199e+05\n",
              " 764    7.676234e+05\n",
              " 88     8.684308e+05\n",
              " 63     9.737511e+05\n",
              " 826    4.786314e+03\n",
              " Name: Size nm^3, Length: 100, dtype: float64)"
            ]
          },
          "execution_count": 5,
          "metadata": {},
          "output_type": "execute_result"
        }
      ]
    },
    {
      "cell_type": "markdown",
      "metadata": {
        "id": "F3Ky5DUi53s8"
      },
      "source": [
        "## Part 3. Perform a Linear Regression"
      ]
    },
    {
      "cell_type": "code",
      "metadata": {
        "id": "loFM5ERQ53s9",
        "outputId": "2417b7a7-9c0d-49bc-97c8-1b104ad00cf0"
      },
      "source": [
        "# Use sklearn to train a model on the training set\n",
        "\n",
        "# Create a sample datapoint and predict the output of that sample with the trained model\n",
        "model = LinearRegression().fit(X_train, y_train)\n",
        "model.score(X_train, y_train)\n",
        "# Report on the score for that model, in your own words (markdown, not code) explain what the score means\n",
        "# Extract the coefficents and intercept from the model and write an equation for your h(x) using LaTeX"
      ],
      "execution_count": null,
      "outputs": [
        {
          "data": {
            "text/plain": [
              "0.8610082946223787"
            ]
          },
          "execution_count": 6,
          "metadata": {},
          "output_type": "execute_result"
        }
      ]
    },
    {
      "cell_type": "code",
      "metadata": {
        "id": "UtvA2suUGnln",
        "outputId": "cc466fb5-1cab-4a7f-8279-b81d250d2b52"
      },
      "source": [
        "model.predict(np.array([[3,5]]))"
      ],
      "execution_count": null,
      "outputs": [
        {
          "name": "stderr",
          "output_type": "stream",
          "text": [
            "/usr/local/lib/python3.9/site-packages/sklearn/base.py:441: UserWarning: X does not have valid feature names, but LinearRegression was fitted with feature names\n",
            "  warnings.warn(\n"
          ]
        },
        {
          "data": {
            "text/plain": [
              "array([-401629.56501086])"
            ]
          },
          "execution_count": 7,
          "metadata": {},
          "output_type": "execute_result"
        }
      ]
    },
    {
      "cell_type": "code",
      "metadata": {
        "id": "tEgyJjf8Gnlo",
        "outputId": "87f8348d-45b6-4601-a2c8-44f6ff78cef7"
      },
      "source": [
        "model.coef_"
      ],
      "execution_count": null,
      "outputs": [
        {
          "data": {
            "text/plain": [
              "array([ 866.14641337, 1032.69506649])"
            ]
          },
          "execution_count": 8,
          "metadata": {},
          "output_type": "execute_result"
        }
      ]
    },
    {
      "cell_type": "code",
      "metadata": {
        "id": "iB_OU6zlGnlp",
        "outputId": "8bc4e52e-af99-4e97-f080-4793f86fbb0f"
      },
      "source": [
        "model.intercept_"
      ],
      "execution_count": null,
      "outputs": [
        {
          "data": {
            "text/plain": [
              "-409391.47958340764"
            ]
          },
          "execution_count": 9,
          "metadata": {},
          "output_type": "execute_result"
        }
      ]
    },
    {
      "cell_type": "markdown",
      "metadata": {
        "id": "DK5Hn6yJGnlp"
      },
      "source": [
        "The score 0.86, represents an 86% accuracy rate on the equation of a slime. "
      ]
    },
    {
      "cell_type": "markdown",
      "metadata": {
        "id": "ex2YzJhuGnlq"
      },
      "source": [
        "The function below represents the h(x) including the coefficents and intercept from the model"
      ]
    },
    {
      "cell_type": "markdown",
      "metadata": {
        "id": "yDruv8QxGnlq"
      },
      "source": [
        "$$ h(x) = 866.14641337 * x_0 + 1032.69506649 * x_1 -409391.47958340764$$"
      ]
    },
    {
      "cell_type": "markdown",
      "metadata": {
        "id": "H7krI6ft53s-"
      },
      "source": [
        "Sample equation: $E = mc^2$"
      ]
    },
    {
      "cell_type": "markdown",
      "metadata": {
        "id": "ynuqS0Ge53s_"
      },
      "source": [
        "## Part 4. Use Cross Validation"
      ]
    },
    {
      "cell_type": "code",
      "metadata": {
        "id": "PdS67eSq53s_"
      },
      "source": [
        "# Use the cross_val_score function to repeat your experiment across many shuffles of the data\n",
        "\n",
        "# Report on their finding and their significance"
      ],
      "execution_count": null,
      "outputs": []
    },
    {
      "cell_type": "code",
      "metadata": {
        "id": "yfW95qcEGnls",
        "outputId": "04dd1e78-0339-4d0b-8fc1-98e0308223e6"
      },
      "source": [
        "X_train.shape, y_train.shape"
      ],
      "execution_count": null,
      "outputs": [
        {
          "data": {
            "text/plain": [
              "((900, 2), (900,))"
            ]
          },
          "execution_count": 11,
          "metadata": {},
          "output_type": "execute_result"
        }
      ]
    },
    {
      "cell_type": "code",
      "metadata": {
        "scrolled": true,
        "id": "3v16YMRHGnlt",
        "outputId": "126c56bf-f2b6-419e-bec5-7067adc0d5a4"
      },
      "source": [
        "X_test.shape, y_test.shape"
      ],
      "execution_count": null,
      "outputs": [
        {
          "data": {
            "text/plain": [
              "((100, 2), (100,))"
            ]
          },
          "execution_count": 12,
          "metadata": {},
          "output_type": "execute_result"
        }
      ]
    },
    {
      "cell_type": "code",
      "metadata": {
        "id": "73XBsWuhGnlu",
        "outputId": "696aafdb-c964-4884-b5f6-44c1c7be967a"
      },
      "source": [
        "clf = cross_val_score(model,X_train, y_train)\n",
        "print(clf)"
      ],
      "execution_count": null,
      "outputs": [
        {
          "name": "stdout",
          "output_type": "stream",
          "text": [
            "[0.86226163 0.81982226 0.88938198 0.86663176 0.85729958]\n"
          ]
        }
      ]
    },
    {
      "cell_type": "code",
      "metadata": {
        "id": "wdronoyjGnlu",
        "outputId": "06f49012-0209-4187-ef2e-f38dd9bb8b09"
      },
      "source": [
        "clf.mean(), clf.std()"
      ],
      "execution_count": null,
      "outputs": [
        {
          "data": {
            "text/plain": [
              "(0.8590794402339516, 0.022493119105236794)"
            ]
          },
          "execution_count": 14,
          "metadata": {},
          "output_type": "execute_result"
        }
      ]
    },
    {
      "cell_type": "code",
      "metadata": {
        "id": "pBnyzQBkGnlv",
        "outputId": "ab7fc6fb-f97d-4b30-adcb-01065a21d3be"
      },
      "source": [
        "print(\"0.86 accuracy with a standard deviation of 0.02\")"
      ],
      "execution_count": null,
      "outputs": [
        {
          "name": "stdout",
          "output_type": "stream",
          "text": [
            "0.86 accuracy with a standard deviation of 0.02\n"
          ]
        }
      ]
    },
    {
      "cell_type": "markdown",
      "metadata": {
        "id": "ezmjXHrc53tA"
      },
      "source": [
        "## Part 5. Using Polynomial Regression"
      ]
    },
    {
      "cell_type": "code",
      "metadata": {
        "id": "QGvRlKW553tB",
        "outputId": "3131da6d-05b6-4e02-9d83-e057ed59f77f"
      },
      "source": [
        "# Using the PolynomialFeatures library perform another regression on an augmented dataset of degree 2\n",
        "poly = PolynomialFeatures(2)\n",
        "X_train = poly.fit_transform(X_train)\n",
        "X_test = poly.fit_transform(X_test)\n",
        "\n",
        "model = model.LinearRegression()\n",
        "\n",
        "#polynomial regression to linear regression\n",
        "\n",
        "model.fit(X_train, y_train)\n",
        "# Report on the metrics and output the resultant equation as you did in Part 3.\n"
      ],
      "execution_count": null,
      "outputs": [
        {
          "ename": "AttributeError",
          "evalue": "'LinearRegression' object has no attribute 'LinearRegression'",
          "output_type": "error",
          "traceback": [
            "\u001b[0;31m---------------------------------------------------------------------------\u001b[0m",
            "\u001b[0;31mAttributeError\u001b[0m                            Traceback (most recent call last)",
            "\u001b[0;32m/var/folders/pt/d5h4d7l13_ng0l73c8s8cntw0000gn/T/ipykernel_56645/437957585.py\u001b[0m in \u001b[0;36m<module>\u001b[0;34m\u001b[0m\n\u001b[1;32m      4\u001b[0m \u001b[0mX_test\u001b[0m \u001b[0;34m=\u001b[0m \u001b[0mpoly\u001b[0m\u001b[0;34m.\u001b[0m\u001b[0mfit_transform\u001b[0m\u001b[0;34m(\u001b[0m\u001b[0mX_test\u001b[0m\u001b[0;34m)\u001b[0m\u001b[0;34m\u001b[0m\u001b[0;34m\u001b[0m\u001b[0m\n\u001b[1;32m      5\u001b[0m \u001b[0;34m\u001b[0m\u001b[0m\n\u001b[0;32m----> 6\u001b[0;31m \u001b[0mmodel\u001b[0m \u001b[0;34m=\u001b[0m \u001b[0mmodel\u001b[0m\u001b[0;34m.\u001b[0m\u001b[0mLinearRegression\u001b[0m\u001b[0;34m(\u001b[0m\u001b[0;34m)\u001b[0m\u001b[0;34m\u001b[0m\u001b[0;34m\u001b[0m\u001b[0m\n\u001b[0m\u001b[1;32m      7\u001b[0m \u001b[0;34m\u001b[0m\u001b[0m\n\u001b[1;32m      8\u001b[0m \u001b[0;31m#polynomial regression to linear regression\u001b[0m\u001b[0;34m\u001b[0m\u001b[0;34m\u001b[0m\u001b[0m\n",
            "\u001b[0;31mAttributeError\u001b[0m: 'LinearRegression' object has no attribute 'LinearRegression'"
          ]
        }
      ]
    },
    {
      "cell_type": "code",
      "metadata": {
        "id": "D8KPtOS1Gnlw"
      },
      "source": [
        "poly_model.score(X_train, y_train)"
      ],
      "execution_count": null,
      "outputs": []
    },
    {
      "cell_type": "code",
      "metadata": {
        "id": "gbqI7pKvGnlx"
      },
      "source": [
        "poly_model.coef_"
      ],
      "execution_count": null,
      "outputs": []
    },
    {
      "cell_type": "code",
      "metadata": {
        "id": "lwlFbwijGnlx"
      },
      "source": [
        "poly_model.intercept_"
      ],
      "execution_count": null,
      "outputs": []
    },
    {
      "cell_type": "code",
      "metadata": {
        "id": "KTIhmPGjGnlx"
      },
      "source": [
        "poly_model.predict(X_test)"
      ],
      "execution_count": null,
      "outputs": []
    },
    {
      "cell_type": "markdown",
      "metadata": {
        "id": "d_Ljkm_0Gnly"
      },
      "source": [
        "$$ h(x) = (0.00 * 1 +  1.20 * a -1.27 * b + 1.26 * a^2 +\n",
        "        2.00 * ab + 2.85 * b^2)  $$"
      ]
    },
    {
      "cell_type": "code",
      "metadata": {
        "id": "tz4uUJhFGnly"
      },
      "source": [
        ""
      ],
      "execution_count": null,
      "outputs": []
    }
  ]
}
